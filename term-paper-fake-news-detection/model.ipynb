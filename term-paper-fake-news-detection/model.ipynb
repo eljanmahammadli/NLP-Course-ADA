{
 "cells": [
  {
   "cell_type": "code",
   "execution_count": 1,
   "metadata": {},
   "outputs": [],
   "source": [
    "import re\n",
    "import numpy as np\n",
    "import evaluate\n",
    "import matplotlib.pyplot as plt\n",
    "from datasets import load_dataset, DatasetDict\n",
    "from transformers import (\n",
    "    AutoTokenizer,\n",
    "    AutoModelForSequenceClassification,\n",
    "    TrainingArguments,\n",
    "    Trainer,\n",
    "    EarlyStoppingCallback,\n",
    "    DefaultDataCollator\n",
    ")\n",
    "import torch\n",
    "import torch.nn.functional as F\n",
    "from sklearn.linear_model import LogisticRegression\n",
    "from sklearn.metrics import accuracy_score, classification_report, confusion_matrix, f1_score\n",
    "from gensim.models import Word2Vec\n",
    "from gensim.scripts.glove2word2vec import glove2word2vec\n",
    "from gensim.models import KeyedVectors\n",
    "from gensim.utils import simple_preprocess"
   ]
  },
  {
   "cell_type": "code",
   "execution_count": 2,
   "metadata": {},
   "outputs": [
    {
     "data": {
      "application/vnd.jupyter.widget-view+json": {
       "model_id": "355980fda8084553b9911c84c82b400d",
       "version_major": 2,
       "version_minor": 0
      },
      "text/plain": [
       "Downloading readme:   0%|          | 0.00/495 [00:00<?, ?B/s]"
      ]
     },
     "metadata": {},
     "output_type": "display_data"
    },
    {
     "data": {
      "application/vnd.jupyter.widget-view+json": {
       "model_id": "0d6318c40ace41cd8945b965b2adb39f",
       "version_major": 2,
       "version_minor": 0
      },
      "text/plain": [
       "Downloading data:   0%|          | 0.00/54.5M [00:00<?, ?B/s]"
      ]
     },
     "metadata": {},
     "output_type": "display_data"
    },
    {
     "data": {
      "application/vnd.jupyter.widget-view+json": {
       "model_id": "b7ef0f8ce7c5437eac764c06cbba537d",
       "version_major": 2,
       "version_minor": 0
      },
      "text/plain": [
       "Generating train split:   0%|          | 0/20711 [00:00<?, ? examples/s]"
      ]
     },
     "metadata": {},
     "output_type": "display_data"
    }
   ],
   "source": [
    "dataset = load_dataset(\"eljanmahammadli/fake-news-az-en\")['train']"
   ]
  },
  {
   "cell_type": "code",
   "execution_count": 3,
   "metadata": {},
   "outputs": [],
   "source": [
    "id2label = {0: \"Real\", 1: \"Fake\"}\n",
    "label2id = {\"Real\": 0, \"Fake\": 1}\n",
    "num_labels = len(id2label)"
   ]
  },
  {
   "cell_type": "code",
   "execution_count": 4,
   "metadata": {},
   "outputs": [],
   "source": [
    "ds_train_devtest = dataset.train_test_split(test_size=0.2, seed=42)\n",
    "ds_devtest = ds_train_devtest[\"test\"].train_test_split(test_size=0.5, seed=42)\n",
    "dataset = DatasetDict(\n",
    "    {\n",
    "        \"train\": ds_train_devtest[\"train\"],\n",
    "        \"valid\": ds_devtest[\"train\"],\n",
    "        \"test\": ds_devtest[\"test\"],\n",
    "    }\n",
    ")"
   ]
  },
  {
   "cell_type": "code",
   "execution_count": 49,
   "metadata": {},
   "outputs": [],
   "source": [
    "train = dataset[\"train\"].to_pandas()\n",
    "valid = dataset[\"valid\"].to_pandas()\n",
    "test = dataset[\"test\"].to_pandas()"
   ]
  },
  {
   "cell_type": "code",
   "execution_count": 38,
   "metadata": {},
   "outputs": [],
   "source": [
    "tokenizer = AutoTokenizer.from_pretrained(\"FacebookAI/xlm-roberta-base\")\n",
    "# dec = tokenizer.decode(tokenizer.encode(text, padding=\"max_length\", truncation=True, max_length=512), skip_special_tokens=True)\n",
    "\n",
    "train['news'] = train['news'].apply(lambda x: tokenizer.decode(tokenizer.encode(x, padding=\"max_length\", truncation=True, max_length=512), skip_special_tokens=True))\n",
    "valid['news'] = valid['news'].apply(lambda x: tokenizer.decode(tokenizer.encode(x, padding=\"max_length\", truncation=True, max_length=512), skip_special_tokens=True))\n",
    "test['news'] = test['news'].apply(lambda x: tokenizer.decode(tokenizer.encode(x, padding=\"max_length\", truncation=True, max_length=512), skip_special_tokens=True))"
   ]
  },
  {
   "cell_type": "markdown",
   "metadata": {},
   "source": [
    "## baseline"
   ]
  },
  {
   "cell_type": "code",
   "execution_count": 10,
   "metadata": {},
   "outputs": [],
   "source": [
    "# Accuracy: 0.9381443298969072\n",
    "# Accuracy: 0.9985815602836879\n",
    "# Accuracy: 0.95372460496614\n",
    "\n",
    "# Accuracy: 81\n",
    "# Accuracy: 94\n",
    "# Accuracy: 85\n",
    "\n"
   ]
  },
  {
   "cell_type": "code",
   "execution_count": null,
   "metadata": {},
   "outputs": [],
   "source": [
    "import wandb\n",
    "import os\n",
    "\n",
    "wandb.login()\n",
    "\n",
    "os.environ[\"WANDB_PROJECT\"] = \"fake-news-detection\"\n",
    "\n",
    "training_args = TrainingArguments(\n",
    "    output_dir=f\"./checkpoints/{version}\",\n",
    "    logging_dir=f\"./logs/{version}\",\n",
    "    num_train_epochs=num_train_epochs,\n",
    "    per_device_train_batch_size=per_device_train_batch_size,\n",
    "    per_device_eval_batch_size=per_device_eval_batch_size,\n",
    "    learning_rate=learning_rate,\n",
    "    weight_decay=weight_decay,\n",
    "    warmup_ratio=warmup_ratio,\n",
    "    overwrite_output_dir=True,\n",
    "    evaluation_strategy=\"steps\",\n",
    "    save_strategy=\"steps\",\n",
    "    save_steps=log_steps,\n",
    "    eval_steps=log_steps,\n",
    "    use_cpu=False,\n",
    "    half_precision_backend=True,\n",
    "    logging_steps=log_steps,\n",
    "    load_best_model_at_end=True,\n",
    "    metric_for_best_model=\"eval_f1\",\n",
    "    push_to_hub=True,\n",
    "    hub_model_id=f\"eljanmahammadli/{version}\",\n",
    "    save_safetensors=False,\n",
    "    report_to=\"wandb\",\n",
    "    hub_private_repo=True,\n",
    ")\n",
    "\n",
    "trainer = Trainer(\n",
    "    model=model,\n",
    "    args=training_args,\n",
    "    train_dataset=train_tokenized,\n",
    "    eval_dataset=valid_tokenized,\n",
    "    data_collator=data_collator,\n",
    "    compute_metrics=compute_metrics,\n",
    "    callbacks=[\n",
    "        EarlyStoppingCallback(\n",
    "            early_stopping_patience=int(\n",
    "                es_patience\n",
    "            )\n",
    "        )\n",
    "    ],\n",
    ")\n",
    "\n",
    "trainer.train()\n",
    "tokenizer.push_to_hub(\n",
    "    f\"eljanmahammadli/{version}\"\n",
    ")"
   ]
  },
  {
   "cell_type": "code",
   "execution_count": 34,
   "metadata": {},
   "outputs": [
    {
     "name": "stdout",
     "output_type": "stream",
     "text": [
      "Training for language: en\n",
      "Accuracy: 0.7987364620938628\n",
      "Classification Report:\n",
      "               precision    recall  f1-score   support\n",
      "\n",
      "           0       0.81      0.80      0.81       581\n",
      "           1       0.78      0.80      0.79       527\n",
      "\n",
      "    accuracy                           0.80      1108\n",
      "   macro avg       0.80      0.80      0.80      1108\n",
      "weighted avg       0.80      0.80      0.80      1108\n",
      "\n"
     ]
    },
    {
     "data": {
      "image/png": "[encoded data removed]",
      "text/plain": [
       "<Figure size 640x480 with 2 Axes>"
      ]
     },
     "metadata": {},
     "output_type": "display_data"
    },
    {
     "name": "stdout",
     "output_type": "stream",
     "text": [
      "Training for language: az\n",
      "Accuracy: 0.941908713692946\n",
      "Classification Report:\n",
      "               precision    recall  f1-score   support\n",
      "\n",
      "           0       0.93      0.95      0.94       494\n",
      "           1       0.95      0.93      0.94       470\n",
      "\n",
      "    accuracy                           0.94       964\n",
      "   macro avg       0.94      0.94      0.94       964\n",
      "weighted avg       0.94      0.94      0.94       964\n",
      "\n"
     ]
    },
    {
     "data": {
      "image/png": "[encoded data removed]",
      "text/plain": [
       "<Figure size 640x480 with 2 Axes>"
      ]
     },
     "metadata": {},
     "output_type": "display_data"
    },
    {
     "name": "stdout",
     "output_type": "stream",
     "text": [
      "Training for language: combined\n",
      "Accuracy: 0.849903474903475\n",
      "Classification Report:\n",
      "               precision    recall  f1-score   support\n",
      "\n",
      "           0       0.86      0.85      0.85      1075\n",
      "           1       0.84      0.85      0.84       997\n",
      "\n",
      "    accuracy                           0.85      2072\n",
      "   macro avg       0.85      0.85      0.85      2072\n",
      "weighted avg       0.85      0.85      0.85      2072\n",
      "\n"
     ]
    },
    {
     "data": {
      "image/png": "[encoded data removed]",
      "text/plain": [
       "<Figure size 640x480 with 2 Axes>"
      ]
     },
     "metadata": {},
     "output_type": "display_data"
    }
   ],
   "source": [
    "import pandas as pd\n",
    "from sklearn.feature_extraction.text import TfidfVectorizer, CountVectorizer\n",
    "from sklearn.tree import DecisionTreeClassifier\n",
    "from sklearn.linear_model import LogisticRegression\n",
    "from sklearn.metrics import classification_report, confusion_matrix, accuracy_score\n",
    "import seaborn as sns\n",
    "import matplotlib.pyplot as plt\n",
    "\n",
    "# Function to prepare data, train model, and evaluate\n",
    "def train_evaluate(language, train_data, test_data):\n",
    "    print(f\"Training for language: {language}\")\n",
    "    \n",
    "    # Filter data for the specific language if not combined\n",
    "    if language != 'combined':\n",
    "        train_data = train_data[train_data['language'] == language]\n",
    "        test_data = test_data[test_data['language'] == language]\n",
    "    \n",
    "    # Vectorization\n",
    "    vectorizer = TfidfVectorizer(max_features=200)\n",
    "    X_train = vectorizer.fit_transform(train_data['news'])\n",
    "    X_test = vectorizer.transform(test_data['news'])\n",
    "\n",
    "    # Model\n",
    "    model = LogisticRegression()\n",
    "    model.fit(X_train, train_data['label'])\n",
    "\n",
    "    # Prediction\n",
    "    predictions = model.predict(X_test)\n",
    "\n",
    "    # Evaluation\n",
    "    print(\"Accuracy:\", accuracy_score(test_data['label'], predictions))\n",
    "    print(\"Classification Report:\\n\", classification_report(test_data['label'], predictions))\n",
    "\n",
    "    # Confusion Matrix\n",
    "    cm = confusion_matrix(test_data['label'], predictions)\n",
    "    sns.heatmap(cm, annot=True, fmt='d', cmap='Blues')\n",
    "    plt.xlabel('Predicted')\n",
    "    plt.ylabel('True')\n",
    "    plt.title(f'Confusion Matrix for {language}')\n",
    "    plt.show()\n",
    "\n",
    "# Separate models for each language\n",
    "train_evaluate('en', train, test)\n",
    "train_evaluate('az', train, test)\n",
    "\n",
    "# Combined model\n",
    "train_evaluate('combined', train, test)"
   ]
  },
  {
   "cell_type": "markdown",
   "metadata": {},
   "source": [
    "## Word2Vec"
   ]
  },
  {
   "cell_type": "code",
   "execution_count": 12,
   "metadata": {},
   "outputs": [],
   "source": [
    "OUTPUT_FOLDER = '../course-project-4/output/'\n",
    "vector_size = 1024\n",
    "word2vec_model_file = OUTPUT_FOLDER + 'word2vec_' + str(vector_size) + '.model'\n",
    "w2v_model = Word2Vec.load(word2vec_model_file)"
   ]
  },
  {
   "cell_type": "code",
   "execution_count": 35,
   "metadata": {},
   "outputs": [
    {
     "name": "stderr",
     "output_type": "stream",
     "text": [
      "/var/folders/ls/65g9k4kd4_j8k3x277xdkd500000gn/T/ipykernel_99635/1172506233.py:9: SettingWithCopyWarning: \n",
      "A value is trying to be set on a copy of a slice from a DataFrame.\n",
      "Try using .loc[row_indexer,col_indexer] = value instead\n",
      "\n",
      "See the caveats in the documentation: https://pandas.pydata.org/pandas-docs/stable/user_guide/indexing.html#returning-a-view-versus-a-copy\n",
      "  train['news'] = train['news'].apply(split_sentences)\n",
      "/var/folders/ls/65g9k4kd4_j8k3x277xdkd500000gn/T/ipykernel_99635/1172506233.py:10: SettingWithCopyWarning: \n",
      "A value is trying to be set on a copy of a slice from a DataFrame.\n",
      "Try using .loc[row_indexer,col_indexer] = value instead\n",
      "\n",
      "See the caveats in the documentation: https://pandas.pydata.org/pandas-docs/stable/user_guide/indexing.html#returning-a-view-versus-a-copy\n",
      "  train['news'] = train['news'].apply(lambda x: x.lower())\n",
      "/var/folders/ls/65g9k4kd4_j8k3x277xdkd500000gn/T/ipykernel_99635/1172506233.py:11: SettingWithCopyWarning: \n",
      "A value is trying to be set on a copy of a slice from a DataFrame.\n",
      "Try using .loc[row_indexer,col_indexer] = value instead\n",
      "\n",
      "See the caveats in the documentation: https://pandas.pydata.org/pandas-docs/stable/user_guide/indexing.html#returning-a-view-versus-a-copy\n",
      "  train['tokenized_text'] = [simple_preprocess(line) for line in train['news']]\n"
     ]
    }
   ],
   "source": [
    "def split_sentences(text):\n",
    "    pattern = r'(?<=[.!?])\\s*'\n",
    "    sentences = re.split(pattern, text)\n",
    "    sentences_with_whitespace = ' '.join(sentences)\n",
    "    return sentences_with_whitespace\n",
    "\n",
    "# prepare train data\n",
    "train = train[train['language'] == 'az']\n",
    "train['news'] = train['news'].apply(split_sentences)\n",
    "train['news'] = train['news'].apply(lambda x: x.lower())\n",
    "train['tokenized_text'] = [simple_preprocess(line) for line in train['news']]\n",
    "\n",
    "# prepare test data\n",
    "test = test[test['language'] == 'az']\n",
    "test['news'] = test['news'].apply(split_sentences)\n",
    "test['news'] = test['news'].apply(lambda x: x.lower())\n",
    "test['tokenized_text'] = [simple_preprocess(line) for line in test['news']]"
   ]
  },
  {
   "cell_type": "code",
   "execution_count": 36,
   "metadata": {},
   "outputs": [
    {
     "name": "stderr",
     "output_type": "stream",
     "text": [
      "/var/folders/ls/65g9k4kd4_j8k3x277xdkd500000gn/T/ipykernel_99635/3254979378.py:13: SettingWithCopyWarning: \n",
      "A value is trying to be set on a copy of a slice from a DataFrame.\n",
      "Try using .loc[row_indexer,col_indexer] = value instead\n",
      "\n",
      "See the caveats in the documentation: https://pandas.pydata.org/pandas-docs/stable/user_guide/indexing.html#returning-a-view-versus-a-copy\n",
      "  train['text_vector'] = train['tokenized_text'].apply(lambda tokens: document_vector(w2v_model, tokens))\n"
     ]
    },
    {
     "name": "stdout",
     "output_type": "stream",
     "text": [
      "Accuracy: 0.9398340248962656\n",
      "F1 Score: 0.9398119846528376\n",
      "              precision    recall  f1-score   support\n",
      "\n",
      "           0       0.93      0.95      0.94       494\n",
      "           1       0.95      0.93      0.94       470\n",
      "\n",
      "    accuracy                           0.94       964\n",
      "   macro avg       0.94      0.94      0.94       964\n",
      "weighted avg       0.94      0.94      0.94       964\n",
      "\n",
      "[[470  24]\n",
      " [ 34 436]]\n"
     ]
    }
   ],
   "source": [
    "def document_vector(word2vec_model, doc_tokens):\n",
    "    # Filter out tokens not in the model's vocabulary\n",
    "    words = [word for word in doc_tokens if word in word2vec_model.wv.key_to_index]\n",
    "    \n",
    "    if len(words) >= 1:\n",
    "        # Compute the mean vector of words in the document\n",
    "        return np.mean(word2vec_model.wv[words], axis=0)\n",
    "    else:\n",
    "        # Return a zero vector if document contains no words in model's vocabulary\n",
    "        return np.zeros(word2vec_model.vector_size)\n",
    "\n",
    "# Apply the function to each row in the DataFrame\n",
    "train['text_vector'] = train['tokenized_text'].apply(lambda tokens: document_vector(w2v_model, tokens))\n",
    "X_train = np.array(train['text_vector'].tolist())\n",
    "y_train = train['label'].values\n",
    "\n",
    "test['text_vector'] = test['tokenized_text'].apply(lambda tokens: document_vector(w2v_model, tokens))\n",
    "X_test = np.array(test['text_vector'].tolist())\n",
    "y_test = test['label'].values\n",
    "\n",
    "classifier = LogisticRegression()\n",
    "classifier.fit(X_train, y_train)\n",
    "y_pred = classifier.predict(X_test)\n",
    "\n",
    "accuracy = accuracy_score(y_test, y_pred)\n",
    "f1 = f1_score(y_test, y_pred, average='weighted')\n",
    "print(\"Accuracy:\", accuracy)\n",
    "print(\"F1 Score:\", f1)\n",
    "print(classification_report(y_test, y_pred))\n",
    "print(confusion_matrix(y_test, y_pred))"
   ]
  },
  {
   "cell_type": "code",
   "execution_count": 66,
   "metadata": {},
   "outputs": [
    {
     "name": "stdout",
     "output_type": "stream",
     "text": [
      "Prediction: Fake\n"
     ]
    }
   ],
   "source": [
    "# lets inference on the one example text\n",
    "text = input()\n",
    "text = split_sentences(text)\n",
    "text = text.lower()\n",
    "text = simple_preprocess(text)\n",
    "text_vector = document_vector(w2v_model, text).reshape(1, -1)\n",
    "y_pred = classifier.predict(text_vector)\n",
    "print(\"Prediction:\", id2label[y_pred[0]])"
   ]
  },
  {
   "cell_type": "markdown",
   "metadata": {},
   "source": [
    "## GloVe"
   ]
  },
  {
   "cell_type": "code",
   "execution_count": 16,
   "metadata": {},
   "outputs": [
    {
     "name": "stderr",
     "output_type": "stream",
     "text": [
      "/var/folders/ls/65g9k4kd4_j8k3x277xdkd500000gn/T/ipykernel_99635/3820598814.py:3: DeprecationWarning: Call to deprecated `glove2word2vec` (KeyedVectors.load_word2vec_format(.., binary=False, no_header=True) loads GLoVE text vectors.).\n",
      "  glove2word2vec(glove_input_file, word2vec_output_file)\n"
     ]
    }
   ],
   "source": [
    "glove_input_file = '../course-project-4/GloVe/vectors.txt'\n",
    "word2vec_output_file = '../course-project-4/GloVe/glove_model.txt'\n",
    "glove2word2vec(glove_input_file, word2vec_output_file)\n",
    "\n",
    "gl_model = KeyedVectors.load_word2vec_format(word2vec_output_file, binary=False)"
   ]
  },
  {
   "cell_type": "code",
   "execution_count": 37,
   "metadata": {},
   "outputs": [
    {
     "name": "stdout",
     "output_type": "stream",
     "text": [
      "Accuracy: 0.9035269709543569\n",
      "F1 Score: 0.9035119044307109\n",
      "              precision    recall  f1-score   support\n",
      "\n",
      "           0       0.90      0.91      0.91       494\n",
      "           1       0.91      0.90      0.90       470\n",
      "\n",
      "    accuracy                           0.90       964\n",
      "   macro avg       0.90      0.90      0.90       964\n",
      "weighted avg       0.90      0.90      0.90       964\n",
      "\n",
      "[[450  44]\n",
      " [ 49 421]]\n"
     ]
    },
    {
     "name": "stderr",
     "output_type": "stream",
     "text": [
      "/var/folders/ls/65g9k4kd4_j8k3x277xdkd500000gn/T/ipykernel_99635/4252153823.py:14: SettingWithCopyWarning: \n",
      "A value is trying to be set on a copy of a slice from a DataFrame.\n",
      "Try using .loc[row_indexer,col_indexer] = value instead\n",
      "\n",
      "See the caveats in the documentation: https://pandas.pydata.org/pandas-docs/stable/user_guide/indexing.html#returning-a-view-versus-a-copy\n",
      "  train['text_vector'] = train['tokenized_text'].apply(lambda tokens: document_vector(gl_model, tokens))\n"
     ]
    }
   ],
   "source": [
    "def document_vector(model, doc_tokens):\n",
    "    # Filter out tokens not in the model's vocabulary\n",
    "    words = [word for word in doc_tokens if word in model.key_to_index]\n",
    "    \n",
    "    # Check if we have at least one word in the model's vocabulary\n",
    "    if len(words) >= 1:\n",
    "        # Compute the mean vector of the words in the document that are in the model's vocabulary\n",
    "        return np.mean(model[words], axis=0)\n",
    "    else:\n",
    "        # If no words in the document are in the model's vocabulary, return a vector of zeros\n",
    "        return np.zeros(model.vector_size)\n",
    "\n",
    "\n",
    "train['text_vector'] = train['tokenized_text'].apply(lambda tokens: document_vector(gl_model, tokens))\n",
    "X_train = np.array(train['text_vector'].tolist())\n",
    "y_train = train['label'].values\n",
    "\n",
    "test['text_vector'] = test['tokenized_text'].apply(lambda tokens: document_vector(gl_model, tokens))\n",
    "X_test = np.array(test['text_vector'].tolist())\n",
    "y_test = test['label'].values\n",
    "\n",
    "classifier = LogisticRegression()\n",
    "classifier.fit(X_train, y_train)\n",
    "y_pred = classifier.predict(X_test)\n",
    "\n",
    "accuracy = accuracy_score(y_test, y_pred)\n",
    "f1 = f1_score(y_test, y_pred, average='weighted')\n",
    "print(\"Accuracy:\", accuracy)\n",
    "print(\"F1 Score:\", f1)\n",
    "print(classification_report(y_test, y_pred))\n",
    "print(confusion_matrix(y_test, y_pred))"
   ]
  },
  {
   "cell_type": "code",
   "execution_count": 31,
   "metadata": {},
   "outputs": [
    {
     "data": {
      "text/plain": [
       "'sadc'"
      ]
     },
     "execution_count": 31,
     "metadata": {},
     "output_type": "execute_result"
    }
   ],
   "source": [
    "text = input()\n",
    "\n",
    "tokenizer = AutoTokenizer.from_pretrained(\"FacebookAI/xlm-roberta-base\")\n",
    "dec = tokenizer.decode(tokenizer.encode(text, padding=\"max_length\", truncation=True, max_length=512), skip_special_tokens=True)\n",
    "dec"
   ]
  },
  {
   "cell_type": "markdown",
   "metadata": {},
   "source": [
    "# English"
   ]
  },
  {
   "cell_type": "code",
   "execution_count": 39,
   "metadata": {},
   "outputs": [
    {
     "name": "stdout",
     "output_type": "stream",
     "text": [
      "Accuracy for Word2Vec Model: 0.8438628158844765\n",
      "Classification Report for Word2Vec Model:\n",
      "               precision    recall  f1-score   support\n",
      "\n",
      "           0       0.86      0.84      0.85       581\n",
      "           1       0.83      0.85      0.84       527\n",
      "\n",
      "    accuracy                           0.84      1108\n",
      "   macro avg       0.84      0.84      0.84      1108\n",
      "weighted avg       0.84      0.84      0.84      1108\n",
      "\n"
     ]
    }
   ],
   "source": [
    "import pandas as pd\n",
    "import numpy as np\n",
    "from sklearn.model_selection import train_test_split\n",
    "from gensim.models import KeyedVectors\n",
    "from sklearn.linear_model import LogisticRegression\n",
    "from sklearn.metrics import classification_report, accuracy_score\n",
    "import gensim.downloader as api\n",
    "\n",
    "# Load pre-trained Word2Vec model\n",
    "wv = api.load('word2vec-google-news-300')\n",
    "\n",
    "# Function to transform sentences to average Word2Vec vectors\n",
    "def get_average_word2vec(tokens_list, vector, generate_missing=False, k=300):\n",
    "    if len(tokens_list)<1:\n",
    "        return np.zeros(k)\n",
    "    if generate_missing:\n",
    "        vectorized = [vector[word] if word in vector else np.random.rand(k) for word in tokens_list]\n",
    "    else:\n",
    "        vectorized = [vector[word] if word in vector else np.zeros(k) for word in tokens_list]\n",
    "    length = len(vectorized)\n",
    "    summed = np.sum(vectorized, axis=0)\n",
    "    averaged = np.divide(summed, length)\n",
    "    return averaged\n",
    "\n",
    "# Preparing the data\n",
    "train_en = train[train['language'] == 'en']  # Filter English texts\n",
    "X_train_tokens = train_en['news'].apply(lambda x: x.split())\n",
    "\n",
    "# Transform each text into an average Word2Vec vector\n",
    "X_train_w2v = np.array([get_average_word2vec(tokens, wv) for tokens in X_train_tokens])\n",
    "\n",
    "# Model\n",
    "model = LogisticRegression(max_iter=1000)\n",
    "model.fit(X_train_w2v, train_en['label'])\n",
    "\n",
    "from sklearn.metrics import classification_report, confusion_matrix, accuracy_score\n",
    "\n",
    "# Assuming test DataFrame is already loaded and filtered for English\n",
    "test_en = test[test['language'] == 'en']  # Filter English texts\n",
    "X_test_tokens = test_en['news'].apply(lambda x: x.split())\n",
    "\n",
    "# Transform each text in the test set into an average Word2Vec vector\n",
    "X_test_w2v = np.array([get_average_word2vec(tokens, wv) for tokens in X_test_tokens])\n",
    "\n",
    "# Predictions\n",
    "predictions_w2v = model.predict(X_test_w2v)\n",
    "\n",
    "# Evaluation\n",
    "print(\"Accuracy for Word2Vec Model:\", accuracy_score(test_en['label'], predictions_w2v))\n",
    "print(\"Classification Report for Word2Vec Model:\\n\", classification_report(test_en['label'], predictions_w2v))"
   ]
  },
  {
   "cell_type": "markdown",
   "metadata": {},
   "source": [
    "### GloVe"
   ]
  },
  {
   "cell_type": "code",
   "execution_count": 48,
   "metadata": {},
   "outputs": [
    {
     "name": "stdout",
     "output_type": "stream",
     "text": [
      "Downloading GloVe Model...\n",
      "GloVe Model loaded!\n",
      "Accuracy for GloVe Model: 0.8185920577617328\n",
      "Classification Report for GloVe Model:\n",
      "               precision    recall  f1-score   support\n",
      "\n",
      "           0       0.83      0.83      0.83       581\n",
      "           1       0.81      0.81      0.81       527\n",
      "\n",
      "    accuracy                           0.82      1108\n",
      "   macro avg       0.82      0.82      0.82      1108\n",
      "weighted avg       0.82      0.82      0.82      1108\n",
      "\n"
     ]
    }
   ],
   "source": [
    "import os\n",
    "import numpy as np\n",
    "import pandas as pd\n",
    "from sklearn.linear_model import LogisticRegression\n",
    "from sklearn.metrics import classification_report, accuracy_score\n",
    "import gensim.downloader as api\n",
    "from urllib.request import urlopen\n",
    "from zipfile import ZipFile\n",
    "from io import BytesIO\n",
    "\n",
    "# Load GloVe Model from the web\n",
    "def load_glove_model():\n",
    "    print(\"Downloading GloVe Model...\")\n",
    "    # if you have the GloVe model downloaded, you can skip the download and extraction\n",
    "    if not os.path.exists('glove.6B.50d.txt'):\n",
    "\n",
    "        url = \"http://nlp.stanford.edu/data/glove.6B.zip\"\n",
    "        with urlopen(url) as zipresp:\n",
    "            with ZipFile(BytesIO(zipresp.read())) as zfile:\n",
    "                zfile.extractall()\n",
    "        print(\"GloVe Model downloaded and extracted!\")\n",
    "\n",
    "    glove_file = 'glove.6B.300d.txt'\n",
    "    glove_model = {}\n",
    "    with open(glove_file, 'r', encoding='utf-8') as f:\n",
    "        for line in f:\n",
    "            split_line = line.split()\n",
    "            word = split_line[0]\n",
    "            embedding = np.array([float(val) for val in split_line[1:]])\n",
    "            glove_model[word] = embedding\n",
    "    print(\"GloVe Model loaded!\")\n",
    "    return glove_model\n",
    "\n",
    "# Load GloVe model\n",
    "glove = load_glove_model()\n",
    "\n",
    "# Function to transform sentences to average vectors\n",
    "def get_average_embeddings(tokens_list, vector, generate_missing=False, k=300):\n",
    "    if len(tokens_list)<1:\n",
    "        return np.zeros(k)\n",
    "    if generate_missing:\n",
    "        vectorized = [vector[word] if word in vector else np.random.rand(k) for word in tokens_list]\n",
    "    else:\n",
    "        vectorized = [vector[word] if word in vector else np.zeros(k) for word in tokens_list]\n",
    "    length = len(vectorized)\n",
    "    summed = np.sum(vectorized, axis=0)\n",
    "    averaged = np.divide(summed, length)\n",
    "    return averaged\n",
    "\n",
    "# Assuming train and test DataFrames are loaded with columns 'news', 'label', and 'language'\n",
    "train_en = train[train['language'] == 'en']  # Filter English texts\n",
    "test_en = test[test['language'] == 'en']  # Filter English texts\n",
    "\n",
    "X_train_tokens = train_en['news'].apply(lambda x: x.split())\n",
    "X_test_tokens = test_en['news'].apply(lambda x: x.split())\n",
    "\n",
    "# Convert texts to GloVe vectors\n",
    "X_train_glove = np.array([get_average_embeddings(tokens, glove) for tokens in X_train_tokens])\n",
    "X_test_glove = np.array([get_average_embeddings(tokens, glove) for tokens in X_test_tokens])\n",
    "\n",
    "# Model\n",
    "model = LogisticRegression(max_iter=1000)\n",
    "model.fit(X_train_glove, train_en['label'])\n",
    "\n",
    "# Predictions\n",
    "predictions_glove = model.predict(X_test_glove)\n",
    "\n",
    "# Evaluation\n",
    "print(\"Accuracy for GloVe Model:\", accuracy_score(test_en['label'], predictions_glove))\n",
    "print(\"Classification Report for GloVe Model:\\n\", classification_report(test_en['label'], predictions_glove))"
   ]
  },
  {
   "cell_type": "markdown",
   "metadata": {},
   "source": [
    "# AzLlama"
   ]
  },
  {
   "cell_type": "code",
   "execution_count": 50,
   "metadata": {},
   "outputs": [
    {
     "name": "stdout",
     "output_type": "stream",
     "text": [
      "Accuracy: 0.487551867219917\n",
      "              precision    recall  f1-score   support\n",
      "\n",
      "           0       0.00      0.00      0.00       494\n",
      "           1       0.49      1.00      0.66       470\n",
      "\n",
      "    accuracy                           0.49       964\n",
      "   macro avg       0.24      0.50      0.33       964\n",
      "weighted avg       0.24      0.49      0.32       964\n",
      "\n"
     ]
    },
    {
     "name": "stderr",
     "output_type": "stream",
     "text": [
      "/Users/eljan/anaconda3/envs/polygraf/lib/python3.11/site-packages/sklearn/metrics/_classification.py:1497: UndefinedMetricWarning: Precision is ill-defined and being set to 0.0 in labels with no predicted samples. Use `zero_division` parameter to control this behavior.\n",
      "  _warn_prf(average, modifier, f\"{metric.capitalize()} is\", len(result))\n",
      "/Users/eljan/anaconda3/envs/polygraf/lib/python3.11/site-packages/sklearn/metrics/_classification.py:1497: UndefinedMetricWarning: Precision is ill-defined and being set to 0.0 in labels with no predicted samples. Use `zero_division` parameter to control this behavior.\n",
      "  _warn_prf(average, modifier, f\"{metric.capitalize()} is\", len(result))\n",
      "/Users/eljan/anaconda3/envs/polygraf/lib/python3.11/site-packages/sklearn/metrics/_classification.py:1497: UndefinedMetricWarning: Precision is ill-defined and being set to 0.0 in labels with no predicted samples. Use `zero_division` parameter to control this behavior.\n",
      "  _warn_prf(average, modifier, f\"{metric.capitalize()} is\", len(result))\n"
     ]
    },
    {
     "data": {
      "text/plain": [
       "Text(0.5, 1.0, 'Confusion Matrix')"
      ]
     },
     "execution_count": 50,
     "metadata": {},
     "output_type": "execute_result"
    },
    {
     "data": {
      "image/png": "[encoded data removed]",
      "text/plain": [
       "<Figure size 640x480 with 2 Axes>"
      ]
     },
     "metadata": {},
     "output_type": "display_data"
    }
   ],
   "source": [
    "from transformers import AutoTokenizer, AutoModelForCausalLM\n",
    "import torch\n",
    "from sklearn.model_selection import train_test_split\n",
    "from sklearn.linear_model import LogisticRegression\n",
    "import pandas as pd\n",
    "\n",
    "# Load model and tokenizer\n",
    "tokenizer = AutoTokenizer.from_pretrained(\"eljanmahammadli/AzLlama-152M\")\n",
    "model = AutoModelForCausalLM.from_pretrained(\"eljanmahammadli/AzLlama-152M\")\n",
    "\n",
    "# Function to generate embeddings\n",
    "def get_embeddings(text):\n",
    "    inputs = tokenizer(text, return_tensors=\"pt\", padding=True, truncation=True, max_length=512)\n",
    "    with torch.no_grad():\n",
    "        outputs = model(**inputs, output_hidden_states=True)\n",
    "    # Using the last hidden state for embeddings\n",
    "    embeddings = outputs.hidden_states[-1][:, 0, :].squeeze().numpy()\n",
    "    return embeddings\n",
    "\n",
    "train = train[train['language'] == 'az']\n",
    "test = test[test['language'] == 'az']\n",
    "\n",
    "embeddings = train['news'].apply(get_embeddings)\n",
    "y_train = train['label']\n",
    "X_train = embeddings.tolist()\n",
    "\n",
    "embeddings = test['news'].apply(get_embeddings)\n",
    "y_test = test['label']\n",
    "X_test = embeddings.tolist()\n",
    "\n",
    "# Train a simple classifier\n",
    "classifier = LogisticRegression()\n",
    "classifier.fit(X_train, y_train)\n",
    "\n",
    "# Evaluate the classifier\n",
    "score = classifier.score(X_test, y_test)\n",
    "print(\"Accuracy:\", score)\n",
    "\n",
    "# classification report\n",
    "y_pred = classifier.predict(X_test)\n",
    "print(classification_report(y_test, y_pred))\n",
    "\n",
    "# confusion matrix\n",
    "from sklearn.metrics import confusion_matrix\n",
    "import seaborn as sns\n",
    "import matplotlib.pyplot as plt\n",
    "\n",
    "cm = confusion_matrix(y_test, y_pred)\n",
    "sns.heatmap(cm, annot=True, fmt='d', cmap='Blues')\n",
    "plt.xlabel('Predicted')\n",
    "plt.ylabel('True')\n",
    "plt.title('Confusion Matrix')\n"
   ]
  }
 ],
 "metadata": {
  "kernelspec": {
   "display_name": "polygraf",
   "language": "python",
   "name": "python3"
  },
  "language_info": {
   "codemirror_mode": {
    "name": "ipython",
    "version": 3
   },
   "file_extension": ".py",
   "mimetype": "text/x-python",
   "name": "python",
   "nbconvert_exporter": "python",
   "pygments_lexer": "ipython3",
   "version": "3.11.7"
  }
 },
 "nbformat": 4,
 "nbformat_minor": 2
}
