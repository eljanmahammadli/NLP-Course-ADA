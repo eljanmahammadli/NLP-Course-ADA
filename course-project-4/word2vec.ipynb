{
 "cells": [
  {
   "cell_type": "code",
   "execution_count": 1,
   "metadata": {},
   "outputs": [
    {
     "data": {
      "application/vnd.jupyter.widget-view+json": {
       "model_id": "831e62090a7345ff83e549b571d30462",
       "version_major": 2,
       "version_minor": 0
      },
      "text/plain": [
       "Downloading readme:   0%|          | 0.00/797 [00:00<?, ?B/s]"
      ]
     },
     "metadata": {},
     "output_type": "display_data"
    },
    {
     "name": "stderr",
     "output_type": "stream",
     "text": [
      "Downloading data: 100%|██████████| 205M/205M [01:27<00:00, 2.34MB/s] \n"
     ]
    },
    {
     "data": {
      "application/vnd.jupyter.widget-view+json": {
       "model_id": "807aa00c469b48c282df7baf8b7ba44e",
       "version_major": 2,
       "version_minor": 0
      },
      "text/plain": [
       "Generating train split:   0%|          | 0/129433 [00:00<?, ? examples/s]"
      ]
     },
     "metadata": {},
     "output_type": "display_data"
    }
   ],
   "source": [
    "from datasets import load_dataset\n",
    "import pandas as pd\n",
    "import numpy as np\n",
    "import matplotlib.pyplot as plt\n",
    "from collections import Counter\n",
    "from nltk.tokenize import word_tokenize\n",
    "import string\n",
    "import nltk\n",
    "from gensim.utils import simple_preprocess\n",
    "from gensim.scripts.glove2word2vec import glove2word2vec\n",
    "from gensim.models import KeyedVectors\n",
    "import re\n",
    "from sklearn.model_selection import train_test_split\n",
    "from sklearn.linear_model import LogisticRegression\n",
    "from sklearn.metrics import accuracy_score, classification_report, confusion_matrix, f1_score\n",
    "\n",
    "nltk.download('punkt')"
   ]
  },
  {
   "cell_type": "markdown",
   "metadata": {},
   "source": [
    "# preparing the data"
   ]
  },
  {
   "cell_type": "code",
   "execution_count": 21,
   "metadata": {},
   "outputs": [
    {
     "data": {
      "text/html": [
       "<div>\n",
       "<style scoped>\n",
       "    .dataframe tbody tr th:only-of-type {\n",
       "        vertical-align: middle;\n",
       "    }\n",
       "\n",
       "    .dataframe tbody tr th {\n",
       "        vertical-align: top;\n",
       "    }\n",
       "\n",
       "    .dataframe thead th {\n",
       "        text-align: right;\n",
       "    }\n",
       "</style>\n",
       "<table border=\"1\" class=\"dataframe\">\n",
       "  <thead>\n",
       "    <tr style=\"text-align: right;\">\n",
       "      <th></th>\n",
       "      <th>text</th>\n",
       "    </tr>\n",
       "  </thead>\n",
       "  <tbody>\n",
       "    <tr>\n",
       "      <th>0</th>\n",
       "      <td>Svyatoslav İvanoviç Vakarçuk ukraynalı müğənni...</td>\n",
       "    </tr>\n",
       "    <tr>\n",
       "      <th>1</th>\n",
       "      <td>Bruselyoz zoonoz infeksion-allergik xəstəlikdi...</td>\n",
       "    </tr>\n",
       "    <tr>\n",
       "      <th>2</th>\n",
       "      <td>ArgentinaTürkiyə münasibətləri Argentina ilə T...</td>\n",
       "    </tr>\n",
       "    <tr>\n",
       "      <th>3</th>\n",
       "      <td>Kim Jin-Son Cənubi Koreyanı təmsil edən həndbo...</td>\n",
       "    </tr>\n",
       "    <tr>\n",
       "      <th>4</th>\n",
       "      <td>Likiyalılar - Qədim dövrdə Anadolunun Likiya b...</td>\n",
       "    </tr>\n",
       "    <tr>\n",
       "      <th>...</th>\n",
       "      <td>...</td>\n",
       "    </tr>\n",
       "    <tr>\n",
       "      <th>129428</th>\n",
       "      <td>Nərman Fəzaim oğlu Rəsulov Azərbaycan Silahlı ...</td>\n",
       "    </tr>\n",
       "    <tr>\n",
       "      <th>129429</th>\n",
       "      <td>Atabəylər Memarlıq Kompleksi Naxçıvan şəhərind...</td>\n",
       "    </tr>\n",
       "    <tr>\n",
       "      <th>129430</th>\n",
       "      <td>Spotify Wrapped isveçli media yayım xidməti Sp...</td>\n",
       "    </tr>\n",
       "    <tr>\n",
       "      <th>129431</th>\n",
       "      <td>Gömeç qülləsi Cənubi Türkiyədə, tarixi Kilikiy...</td>\n",
       "    </tr>\n",
       "    <tr>\n",
       "      <th>129432</th>\n",
       "      <td>Rusiyada təbii qaz - Sovet İttifaqının dağılma...</td>\n",
       "    </tr>\n",
       "  </tbody>\n",
       "</table>\n",
       "<p>129433 rows × 1 columns</p>\n",
       "</div>"
      ],
      "text/plain": [
       "                                                     text\n",
       "0       Svyatoslav İvanoviç Vakarçuk ukraynalı müğənni...\n",
       "1       Bruselyoz zoonoz infeksion-allergik xəstəlikdi...\n",
       "2       ArgentinaTürkiyə münasibətləri Argentina ilə T...\n",
       "3       Kim Jin-Son Cənubi Koreyanı təmsil edən həndbo...\n",
       "4       Likiyalılar - Qədim dövrdə Anadolunun Likiya b...\n",
       "...                                                   ...\n",
       "129428  Nərman Fəzaim oğlu Rəsulov Azərbaycan Silahlı ...\n",
       "129429  Atabəylər Memarlıq Kompleksi Naxçıvan şəhərind...\n",
       "129430  Spotify Wrapped isveçli media yayım xidməti Sp...\n",
       "129431  Gömeç qülləsi Cənubi Türkiyədə, tarixi Kilikiy...\n",
       "129432  Rusiyada təbii qaz - Sovet İttifaqının dağılma...\n",
       "\n",
       "[129433 rows x 1 columns]"
      ]
     },
     "execution_count": 21,
     "metadata": {},
     "output_type": "execute_result"
    }
   ],
   "source": [
    "CREATE_CSV = False\n",
    "SAMPLE = False\n",
    "\n",
    "if CREATE_CSV:\n",
    "    dataset = load_dataset(\"allmalab/azwiki\")\n",
    "    dataset['train'].to_pandas()[['text']].to_csv('azwiki.csv', index=False)\n",
    "\n",
    "df = pd.read_csv('azwiki.csv')\n",
    "if SAMPLE:\n",
    "    df = df.sample(1000).reset_index(drop=True)\n",
    "df"
   ]
  },
  {
   "cell_type": "code",
   "execution_count": 22,
   "metadata": {},
   "outputs": [
    {
     "name": "stdout",
     "output_type": "stream",
     "text": [
      "0    [svyatoslav, vanoviç, vakarçuk, ukraynalı, müğ...\n",
      "1    [bruselyoz, zoonoz, infeksion, allergik, xəstə...\n",
      "2    [münasibətləri, argentina, ilə, türkiyə, arası...\n",
      "3    [kim, jin, son, cənubi, koreyanı, təmsil, edən...\n",
      "4    [likiyalılar, qədim, dövrdə, anadolunun, likiy...\n",
      "5    [mikayıl, gözəlov, şuşa, rayon, cra, hakimiyyə...\n",
      "6    [mirzə, məhəmmədəli, xan, hacı, mirzə, fətəli,...\n",
      "7    [əbdül, hüseynəli, oğlu, qasımov, azərbaycanın...\n",
      "8    [lgbt, cəmiyyəti, ortaq, bir, mədəniyyət, və, ...\n",
      "9    [qasımov, muxtar, cahid, oğlu, azərbaycanın, m...\n",
      "Name: tokenized_text, dtype: object\n"
     ]
    }
   ],
   "source": [
    "# tokenization\n",
    "df['tokenized_text'] = [simple_preprocess(line) for line in df['text']] \n",
    "print(df['tokenized_text'].head(10))"
   ]
  },
  {
   "cell_type": "markdown",
   "metadata": {},
   "source": [
    "# statistics"
   ]
  },
  {
   "cell_type": "code",
   "execution_count": 109,
   "metadata": {},
   "outputs": [
    {
     "name": "stdout",
     "output_type": "stream",
     "text": [
      "Number of Documents: 129433\n",
      "Total Number of Words: 33299954\n",
      "Number of Distinct Words: 1700280\n",
      "Number of Frequent Words: 663535\n",
      "Number of Rare Words: 1036745\n"
     ]
    },
    {
     "data": {
      "image/png": "[encoded data removed]",
      "text/plain": [
       "<Figure size 1500x800 with 1 Axes>"
      ]
     },
     "metadata": {},
     "output_type": "display_data"
    },
    {
     "data": {
      "image/png": "[encoded data removed]",
      "text/plain": [
       "<Figure size 1500x800 with 1 Axes>"
      ]
     },
     "metadata": {},
     "output_type": "display_data"
    }
   ],
   "source": [
    "# Preprocessing and Tokenization for Visualization\n",
    "def preprocess_text(text):\n",
    "    # Convert text to lowercase, remove punctuation, and tokenize\n",
    "    lower_text = text.lower()\n",
    "    no_punc_text = lower_text.translate(str.maketrans('', '', string.punctuation))\n",
    "    tokens = word_tokenize(no_punc_text)\n",
    "    # Remove stopwords\n",
    "    filtered_tokens = [word for word in tokens if word not in stop_words]\n",
    "    return filtered_tokens\n",
    "\n",
    "df['tokenized_vis'] = df['text'].apply(preprocess_text)\n",
    "\n",
    "# Flatten the list of tokens and count distinct words\n",
    "all_tokens = [token for sublist in df['tokenized_vis'] for token in sublist]\n",
    "token_counts = Counter(all_tokens)\n",
    "\n",
    "# Basic Statistics\n",
    "num_documents = len(df)\n",
    "total_words = len(all_tokens)\n",
    "distinct_words = len(token_counts)\n",
    "\n",
    "# Frequency Analysis\n",
    "frequent_words = {word: count for word, count in token_counts.items() if count > 1}  # Adjust criteria as needed\n",
    "rare_words = {word: count for word, count in token_counts.items() if count == 1}\n",
    "\n",
    "print(f\"Number of Documents: {num_documents}\")\n",
    "print(f\"Total Number of Words: {total_words}\")\n",
    "print(f\"Number of Distinct Words: {distinct_words}\")\n",
    "print(f\"Number of Frequent Words: {len(frequent_words)}\")\n",
    "print(f\"Number of Rare Words: {len(rare_words)}\")\n",
    "\n",
    "\n",
    "# Plotting the top N most common words\n",
    "N = 30\n",
    "top_words = token_counts.most_common(N)\n",
    "words, frequencies = zip(*top_words)\n",
    "\n",
    "plt.figure(figsize=(15, 8))\n",
    "plt.bar(words, frequencies)\n",
    "plt.xlabel('Words')\n",
    "plt.ylabel('Frequency')\n",
    "plt.title('Top Word Frequencies')\n",
    "plt.xticks(rotation=45)\n",
    "plt.show()\n",
    "\n",
    "# Plotting word frequency distribution\n",
    "frequencies = list(token_counts.values())\n",
    "plt.figure(figsize=(15, 8))\n",
    "plt.hist(frequencies, bins=30, range=[0, 30])  # Adjust bin range based on your dataset\n",
    "plt.yscale('log', nonpositive='clip')  # Log scale for better visibility of rare words\n",
    "plt.title('Word Frequency Distribution')\n",
    "plt.xlabel('Word Frequency')\n",
    "plt.ylabel('Number of Words')\n",
    "plt.show()\n"
   ]
  },
  {
   "cell_type": "code",
   "execution_count": 111,
   "metadata": {},
   "outputs": [
    {
     "data": {
      "text/plain": [
       "('praysuoterxauskuper',\n",
       " 'administriasiyası',\n",
       " 'qazpromda',\n",
       " '90inə',\n",
       " 'təxsisatlarının',\n",
       " 'hasiledicilər',\n",
       " 'normativhuquqi',\n",
       " 'ödənişqabiliyyətinin',\n",
       " 'renovasiyasını',\n",
       " 'fasiləliyə',\n",
       " 'qeyriödənişli',\n",
       " 'durugönül',\n",
       " 'kalikadnos',\n",
       " 'kərpiclənmiş',\n",
       " 'ərdəmlinin',\n",
       " 'edildiartush',\n",
       " 'centrasia',\n",
       " 'artush',\n",
       " 'oldumina',\n",
       " 'istədilərqurban',\n",
       " 'şirvanşirə',\n",
       " 'ilahim',\n",
       " 'nisvanları',\n",
       " 'sevəcəkmiş',\n",
       " 'alnamına',\n",
       " 'qabaradaraq',\n",
       " 'almışdırencyclopdia',\n",
       " 'homosexualities',\n",
       " 'tropes',\n",
       " 'corporealizing')"
      ]
     },
     "execution_count": 111,
     "metadata": {},
     "output_type": "execute_result"
    }
   ],
   "source": [
    "# less frequent words\n",
    "N = 30\n",
    "bottom_words = token_counts.most_common()[:-N-1:-1]\n",
    "words, frequencies = zip(*bottom_words)\n",
    "words"
   ]
  },
  {
   "cell_type": "markdown",
   "metadata": {},
   "source": [
    "# Training Word2Vec"
   ]
  },
  {
   "cell_type": "code",
   "execution_count": 23,
   "metadata": {},
   "outputs": [
    {
     "name": "stdout",
     "output_type": "stream",
     "text": [
      "Number of workers:  11\n",
      "Time taken to train word2vec model: 2477.890780210495\n"
     ]
    }
   ],
   "source": [
    "import os\n",
    "import time\n",
    "import multiprocessing\n",
    "from gensim.models import Word2Vec\n",
    "\n",
    "# skip-gram model with sg=1\n",
    "vector_size = 1024\n",
    "window = 3\n",
    "min_count = 1\n",
    "workers = multiprocessing.cpu_count()\n",
    "sg = 1\n",
    "print(\"Number of workers: \", workers) # 11 on my machine\n",
    "\n",
    "OUTPUT_FOLDER = 'output/'\n",
    "\n",
    "if not os.path.exists(OUTPUT_FOLDER):\n",
    "    os.makedirs(OUTPUT_FOLDER)\n",
    "\n",
    "word2vec_model_file = OUTPUT_FOLDER + 'word2vec_' + str(vector_size) + '.model'\n",
    "start_time = time.time()\n",
    "stemmed_tokens = pd.Series(df['tokenized_text']).values\n",
    "\n",
    "w2v_model = Word2Vec(\n",
    "    stemmed_tokens, \n",
    "    min_count=min_count,\n",
    "    vector_size=vector_size,\n",
    "    workers=workers,\n",
    "    window=window,\n",
    "    sg=sg\n",
    ")\n",
    "print(\"Time taken to train word2vec model: \" + str(time.time() - start_time))\n",
    "w2v_model.save(word2vec_model_file)"
   ]
  },
  {
   "cell_type": "code",
   "execution_count": null,
   "metadata": {},
   "outputs": [],
   "source": [
    "# Load the model from the model file\n",
    "w2v_model = Word2Vec.load(word2vec_model_file)\n",
    "# Unique ID of the word\n",
    "print(\"Index of the word 'salam':\")\n",
    "print(w2v_model.wv.key_to_index[\"salam\"])\n",
    "# Total number of the words \n",
    "print(len(w2v_model.wv))\n",
    "# Print the size of the word2vec vector for one word\n",
    "print(\"Length of the vector generated for a word\")\n",
    "print(len(w2v_model.wv['salam']))\n",
    "# Get the mean for the vectors for an example review\n",
    "print(\"Print the length after taking average of all word vectors in a sentence:\")\n",
    "print(np.mean([w2v_model.wv[token] for token in df['tokenized_text'][0]], axis=0))\n"
   ]
  },
  {
   "cell_type": "code",
   "execution_count": 24,
   "metadata": {},
   "outputs": [
    {
     "name": "stdout",
     "output_type": "stream",
     "text": [
      "Synonyms for 'dünya':\n",
      "[('dunya', 0.5467132329940796), ('rekordları', 0.5327008962631226), ('klublararası', 0.5305799841880798), ('avopa', 0.5218081474304199), ('wako', 0.5183637142181396), ('çempionatları', 0.5162598490715027), ('dünyü', 0.5159988403320312), ('blits', 0.5137833952903748), ('rusiyaukrayna', 0.5137462615966797), ('çempionatındakı', 0.5134212374687195)]\n",
      "Synonyms for 'azərbaycan':\n",
      "[('azərbacan', 0.7431983947753906), ('azərbayan', 0.7275598049163818), ('azərbayca', 0.7157527208328247), ('azərbycan', 0.7142782211303711), ('azəbaycan', 0.7119920253753662), ('azərbayacan', 0.7083905935287476), ('azəraycan', 0.706139862537384), ('azərbayjan', 0.6947520971298218), ('zərbaycan', 0.6904098391532898), ('azarbaycan', 0.6732813119888306)]\n",
      "Odd one out of 'dünya, torpaq, planet, qlobus':\n",
      "torpaq\n",
      "Similar word to 'dünya - insan + ailə':\n",
      "[('dunya', 0.36704736948013306), ('odina', 0.3325014114379883), ('sopelniklə', 0.33048632740974426), ('qurmayıb', 0.3213329017162323), ('olimpiyadası', 0.32090312242507935), ('wako', 0.320647656917572), ('qurub', 0.32062622904777527), ('kikboks', 0.31881991028785706), ('qurmuşdu', 0.31873348355293274), ('nadiya', 0.31871992349624634)]\n",
      "Similar word to 'azərbaycan - bakı + london':\n",
      "[('krallığ', 0.41199150681495667), ('çalmer', 0.41008710861206055), ('rumford', 0.4075099527835846), ('sidney', 0.4067104160785675), ('pxeçxan', 0.4047988951206207), ('azərbayacan', 0.4036054015159607), ('britain', 0.4029189646244049), ('krallıqın', 0.40279629826545715), ('naurunun', 0.401721715927124), ('lahey', 0.4006415009498596)]\n",
      "Similar word to 'kral + qadın - kişi':\n",
      "[('kralın', 0.4250546097755432), ('kralının', 0.40381449460983276), ('kralı', 0.3842869997024536), ('kraliça', 0.3801957368850708), ('bukinqem', 0.3774872124195099), ('kraliyyət', 0.37296295166015625), ('kraliçanın', 0.3658429980278015), ('georqun', 0.36097267270088196), ('vilhelmin', 0.3587917983531952), ('kraliçası', 0.3575972318649292)]\n",
      "Similar word to 'qadın + atası - anası':\n",
      "[('kişi', 0.5014625787734985), ('qadının', 0.3969438374042511), ('qadınların', 0.38733556866645813), ('kişidir', 0.3422153890132904), ('kişinin', 0.3391690254211426), ('qadınlardan', 0.3388257920742035), ('qadınları', 0.333188533782959), ('voleyboluna', 0.33271610736846924), ('qadına', 0.33264675736427307), ('çadra', 0.3313632309436798)]\n"
     ]
    }
   ],
   "source": [
    "# Use your model for finding synonyms (or words with similar meaning) for 10 different words. Was your model accurate? Describe results.\n",
    "# Load the model\n",
    "w2v_model = Word2Vec.load(word2vec_model_file)\n",
    "\n",
    "# Find synonyms for the word 'dünya'\n",
    "print(\"Synonyms for 'dünya':\")\n",
    "print(w2v_model.wv.most_similar('dünya'))\n",
    "\n",
    "print(\"Synonyms for 'azərbaycan':\")\n",
    "print(w2v_model.wv.most_similar('azərbaycan'))\n",
    "\n",
    "# Apply mathematical equations on vector values of similar words. Are there any patterns visible? Describe results.\n",
    "# Find the odd one out\n",
    "print(\"Odd one out of 'dünya, torpaq, planet, qlobus':\")\n",
    "print(w2v_model.wv.doesnt_match(['dünya', 'torpaq', 'planet', 'qlobus']))\n",
    "\n",
    "# Find the word that is similar to the result of the following equation: dünya - insan + ailə\n",
    "print(\"Similar word to 'dünya - insan + ailə':\")\n",
    "print(w2v_model.wv.most_similar(positive=['dünya', 'ailə'], negative=['insan']))\n",
    "\n",
    "# Find the word that is similar to the result of the following equation: azərbaycan - baku + london\n",
    "print(\"Similar word to 'azərbaycan - bakı + london':\")\n",
    "print(w2v_model.wv.most_similar(positive=['azərbaycan', 'london'], negative=['bakı']))\n",
    "\n",
    "# Find the word that is similar to the result of the following equation: kral + qadın - kişi\n",
    "print(\"Similar word to 'kral + qadın - kişi':\")\n",
    "print(w2v_model.wv.most_similar(positive=['kral', 'qadın'], negative=['kişi']))\n",
    "\n",
    "# Find the word that is similar to the result of the following equation: qadın + atası - anası\n",
    "print(\"Similar word to 'qadın + atası - anası':\")\n",
    "print(w2v_model.wv.most_similar(positive=['qadın', 'atası'], negative=['anası']))\n"
   ]
  },
  {
   "cell_type": "code",
   "execution_count": 89,
   "metadata": {},
   "outputs": [
    {
     "name": "stdout",
     "output_type": "stream",
     "text": [
      "Similar word to 'kral + qadın - kişi':\n",
      "kralın: 0.43\n",
      "kralının: 0.40\n",
      "kralı: 0.38\n",
      "kraliça: 0.38\n",
      "bukinqem: 0.38\n",
      "kraliyyət: 0.37\n",
      "kraliçanın: 0.37\n",
      "georqun: 0.36\n",
      "vilhelmin: 0.36\n",
      "kraliçası: 0.36\n"
     ]
    }
   ],
   "source": [
    "print(\"Similar word to 'kral + qadın - kişi':\")\n",
    "similar_words = w2v_model.wv.most_similar(positive=['kral', 'qadın'], negative=['kişi'])\n",
    "for word, similarity in similar_words:\n",
    "    print(f\"{word}: {similarity:.2f}\")"
   ]
  },
  {
   "cell_type": "code",
   "execution_count": 83,
   "metadata": {},
   "outputs": [
    {
     "name": "stdout",
     "output_type": "stream",
     "text": [
      "Synonyms for 'kral':\n",
      "kralı: 0.54\n",
      "kralın: 0.48\n",
      "kralının: 0.47\n",
      "kraliyyət: 0.46\n",
      "kraliça: 0.46\n",
      "bukinqem: 0.46\n",
      "mperator: 0.46\n",
      "frederikin: 0.45\n",
      "monarx: 0.45\n",
      "georqun: 0.44\n",
      "\n",
      "Synonyms for 'qadın':\n",
      "kişi: 0.63\n",
      "qadınların: 0.52\n",
      "qadının: 0.51\n",
      "qadını: 0.48\n",
      "qadındır: 0.45\n",
      "qadınları: 0.45\n",
      "qadınlardan: 0.44\n",
      "qadına: 0.43\n",
      "qadınlar: 0.43\n",
      "kişilərin: 0.43\n",
      "\n",
      "Synonyms for 'həkim':\n",
      "cərrah: 0.61\n",
      "terapevt: 0.58\n",
      "ginekoloq: 0.58\n",
      "uroloq: 0.56\n",
      "həkimi: 0.56\n",
      "nevropatoloq: 0.56\n",
      "stomatoloq: 0.55\n",
      "oftalmoloq: 0.55\n",
      "psixiatr: 0.54\n",
      "feldşer: 0.54\n",
      "\n",
      "Synonyms for 'ata':\n",
      "baba: 0.52\n",
      "oğul: 0.51\n",
      "babadan: 0.49\n",
      "atanın: 0.49\n",
      "nənə: 0.48\n",
      "atadan: 0.47\n",
      "babası: 0.47\n",
      "babalarından: 0.46\n",
      "babasının: 0.46\n",
      "oğulun: 0.46\n",
      "\n",
      "Synonyms for 'at':\n",
      "belində: 0.48\n",
      "ilxısı: 0.45\n",
      "nalı: 0.45\n",
      "dözər: 0.45\n",
      "çapmaq: 0.44\n",
      "çaparkən: 0.44\n",
      "minməkdə: 0.44\n",
      "dəvə: 0.44\n",
      "yüyənli: 0.43\n",
      "oberpullendorf: 0.43\n",
      "\n",
      "Synonyms for 'az':\n",
      "kulis: 0.45\n",
      "aznews: 0.44\n",
      "gov: 0.44\n",
      "miqdarda: 0.43\n",
      "anspress: 0.43\n",
      "anl: 0.43\n",
      "publika: 0.43\n",
      "azframework: 0.42\n",
      "biraz: 0.42\n",
      "azarticles: 0.42\n",
      "\n",
      "Synonyms for 'görmək':\n",
      "saymaq: 0.56\n",
      "vurğulamaq: 0.56\n",
      "eşitmək: 0.56\n",
      "anlamaq: 0.56\n",
      "aşkarlamaq: 0.56\n",
      "izləmək: 0.55\n",
      "göstərmək: 0.55\n",
      "dəyərləndirmək: 0.55\n",
      "bənzətmək: 0.54\n",
      "görməmək: 0.54\n",
      "\n",
      "Synonyms for 'yoxlamaq':\n",
      "təsdiqləmək: 0.77\n",
      "dəqiqləşdirmək: 0.75\n",
      "aşkarlamaq: 0.73\n",
      "aydınlaşdırmaq: 0.72\n",
      "yüngülləşdirmək: 0.72\n",
      "dəyərləndirmək: 0.71\n",
      "sadələşdirmək: 0.71\n",
      "tənzimləmək: 0.70\n",
      "bloklamaq: 0.70\n",
      "modelləşdirmək: 0.69\n",
      "\n",
      "Synonyms for 'başlamaq':\n",
      "hazırlaşmaq: 0.73\n",
      "başlamağı: 0.68\n",
      "inandırmaq: 0.66\n",
      "başlamalı: 0.66\n",
      "başlamaları: 0.65\n",
      "başlamağa: 0.65\n",
      "yollanmaq: 0.64\n",
      "hazırlaşması: 0.64\n",
      "başlatmaq: 0.64\n",
      "hazırlaşmağa: 0.64\n",
      "\n",
      "Synonyms for 'tapmaq':\n",
      "axtarmaq: 0.70\n",
      "aşkarlamaq: 0.63\n",
      "axtarıb: 0.62\n",
      "açıqlamaq: 0.60\n",
      "axtararkən: 0.60\n",
      "gizlətmək: 0.60\n",
      "tapmağa: 0.60\n",
      "axtarır: 0.59\n",
      "doldurmaq: 0.58\n",
      "axtarırlar: 0.58\n",
      "\n"
     ]
    }
   ],
   "source": [
    "# Use your model for finding synonyms (or words with similar meaning) for 10 different words.\n",
    "words = ['dünya', 'torpaq', 'planet', 'qlobus', 'azərbaycan', 'baku', 'paris', 'kral', 'qadın', 'kişi']\n",
    "words = ['kral', 'qadın', 'həkim', 'ata', 'at', 'az', 'görmək', 'yoxlamaq','başlamaq', 'tapmaq']\n",
    "\n",
    "# pretty print synonyms with their similarity scores with 2 decimal places\n",
    "for word in words:\n",
    "    print(f\"Synonyms for '{word}':\")\n",
    "    for synonym, score in w2v_model.wv.most_similar(word):\n",
    "        print(f\"{synonym}: {score:.2f}\")\n",
    "    print()"
   ]
  },
  {
   "cell_type": "code",
   "execution_count": 84,
   "metadata": {},
   "outputs": [
    {
     "name": "stdout",
     "output_type": "stream",
     "text": [
      "Words in array: ['dünya', 'torpaq', 'planet', 'qlobus']\n",
      "Predicted word that doesn't match: torpaq\n",
      "\n",
      "Words in array: ['qırmızı', 'mavi', 'yaşıl', 'it']\n",
      "Predicted word that doesn't match: it\n",
      "\n",
      "Words in array: ['günəş', 'ay', 'ulduz', 'ağac']\n",
      "Predicted word that doesn't match: ağac\n",
      "\n",
      "Words in array: ['kitab', 'qəzet', 'telefon', 'qalereya']\n",
      "Predicted word that doesn't match: telefon\n",
      "\n"
     ]
    }
   ],
   "source": [
    "azerbaijani_word_arrays = [\n",
    "    ['dünya', 'torpaq', 'planet', 'qlobus'],\n",
    "    [\"qırmızı\", \"mavi\", \"yaşıl\", \"it\"],\n",
    "    ['günəş', 'ay', 'ulduz', 'ağac'],\n",
    "    ['kitab', 'qəzet', 'telefon', 'qalereya']\n",
    "]\n",
    "for word_array in azerbaijani_word_arrays:\n",
    "    result = w2v_model.wv.doesnt_match(word_array)\n",
    "    print(\"Words in array:\", word_array)\n",
    "    print(\"Predicted word that doesn't match:\", result)\n",
    "    print()"
   ]
  },
  {
   "cell_type": "markdown",
   "metadata": {},
   "source": [
    "# Prepare the data for the GloVe model training"
   ]
  },
  {
   "cell_type": "code",
   "execution_count": 31,
   "metadata": {},
   "outputs": [
    {
     "data": {
      "text/html": [
       "<div>\n",
       "<style scoped>\n",
       "    .dataframe tbody tr th:only-of-type {\n",
       "        vertical-align: middle;\n",
       "    }\n",
       "\n",
       "    .dataframe tbody tr th {\n",
       "        vertical-align: top;\n",
       "    }\n",
       "\n",
       "    .dataframe thead th {\n",
       "        text-align: right;\n",
       "    }\n",
       "</style>\n",
       "<table border=\"1\" class=\"dataframe\">\n",
       "  <thead>\n",
       "    <tr style=\"text-align: right;\">\n",
       "      <th></th>\n",
       "      <th>text</th>\n",
       "      <th>tokenized_text</th>\n",
       "    </tr>\n",
       "  </thead>\n",
       "  <tbody>\n",
       "    <tr>\n",
       "      <th>0</th>\n",
       "      <td>Svyatoslav İvanoviç Vakarçuk ukraynalı müğənni...</td>\n",
       "      <td>[svyatoslav, vanoviç, vakarçuk, ukraynalı, müğ...</td>\n",
       "    </tr>\n",
       "    <tr>\n",
       "      <th>1</th>\n",
       "      <td>Bruselyoz zoonoz infeksion-allergik xəstəlikdi...</td>\n",
       "      <td>[bruselyoz, zoonoz, infeksion, allergik, xəstə...</td>\n",
       "    </tr>\n",
       "    <tr>\n",
       "      <th>2</th>\n",
       "      <td>ArgentinaTürkiyə münasibətləri Argentina ilə T...</td>\n",
       "      <td>[münasibətləri, argentina, ilə, türkiyə, arası...</td>\n",
       "    </tr>\n",
       "    <tr>\n",
       "      <th>3</th>\n",
       "      <td>Kim Jin-Son Cənubi Koreyanı təmsil edən həndbo...</td>\n",
       "      <td>[kim, jin, son, cənubi, koreyanı, təmsil, edən...</td>\n",
       "    </tr>\n",
       "    <tr>\n",
       "      <th>4</th>\n",
       "      <td>Likiyalılar - Qədim dövrdə Anadolunun Likiya b...</td>\n",
       "      <td>[likiyalılar, qədim, dövrdə, anadolunun, likiy...</td>\n",
       "    </tr>\n",
       "    <tr>\n",
       "      <th>...</th>\n",
       "      <td>...</td>\n",
       "      <td>...</td>\n",
       "    </tr>\n",
       "    <tr>\n",
       "      <th>129428</th>\n",
       "      <td>Nərman Fəzaim oğlu Rəsulov Azərbaycan Silahlı ...</td>\n",
       "      <td>[nərman, fəzaim, oğlu, rəsulov, azərbaycan, si...</td>\n",
       "    </tr>\n",
       "    <tr>\n",
       "      <th>129429</th>\n",
       "      <td>Atabəylər Memarlıq Kompleksi Naxçıvan şəhərind...</td>\n",
       "      <td>[atabəylər, memarlıq, kompleksi, naxçıvan, şəh...</td>\n",
       "    </tr>\n",
       "    <tr>\n",
       "      <th>129430</th>\n",
       "      <td>Spotify Wrapped isveçli media yayım xidməti Sp...</td>\n",
       "      <td>[spotify, wrapped, isveçli, media, yayım, xidm...</td>\n",
       "    </tr>\n",
       "    <tr>\n",
       "      <th>129431</th>\n",
       "      <td>Gömeç qülləsi Cənubi Türkiyədə, tarixi Kilikiy...</td>\n",
       "      <td>[gömeç, qülləsi, cənubi, türkiyədə, tarixi, ki...</td>\n",
       "    </tr>\n",
       "    <tr>\n",
       "      <th>129432</th>\n",
       "      <td>Rusiyada təbii qaz - Sovet İttifaqının dağılma...</td>\n",
       "      <td>[rusiyada, təbii, qaz, sovet, ttifaqının, dağı...</td>\n",
       "    </tr>\n",
       "  </tbody>\n",
       "</table>\n",
       "<p>129433 rows × 2 columns</p>\n",
       "</div>"
      ],
      "text/plain": [
       "                                                     text  \\\n",
       "0       Svyatoslav İvanoviç Vakarçuk ukraynalı müğənni...   \n",
       "1       Bruselyoz zoonoz infeksion-allergik xəstəlikdi...   \n",
       "2       ArgentinaTürkiyə münasibətləri Argentina ilə T...   \n",
       "3       Kim Jin-Son Cənubi Koreyanı təmsil edən həndbo...   \n",
       "4       Likiyalılar - Qədim dövrdə Anadolunun Likiya b...   \n",
       "...                                                   ...   \n",
       "129428  Nərman Fəzaim oğlu Rəsulov Azərbaycan Silahlı ...   \n",
       "129429  Atabəylər Memarlıq Kompleksi Naxçıvan şəhərind...   \n",
       "129430  Spotify Wrapped isveçli media yayım xidməti Sp...   \n",
       "129431  Gömeç qülləsi Cənubi Türkiyədə, tarixi Kilikiy...   \n",
       "129432  Rusiyada təbii qaz - Sovet İttifaqının dağılma...   \n",
       "\n",
       "                                           tokenized_text  \n",
       "0       [svyatoslav, vanoviç, vakarçuk, ukraynalı, müğ...  \n",
       "1       [bruselyoz, zoonoz, infeksion, allergik, xəstə...  \n",
       "2       [münasibətləri, argentina, ilə, türkiyə, arası...  \n",
       "3       [kim, jin, son, cənubi, koreyanı, təmsil, edən...  \n",
       "4       [likiyalılar, qədim, dövrdə, anadolunun, likiy...  \n",
       "...                                                   ...  \n",
       "129428  [nərman, fəzaim, oğlu, rəsulov, azərbaycan, si...  \n",
       "129429  [atabəylər, memarlıq, kompleksi, naxçıvan, şəh...  \n",
       "129430  [spotify, wrapped, isveçli, media, yayım, xidm...  \n",
       "129431  [gömeç, qülləsi, cənubi, türkiyədə, tarixi, ki...  \n",
       "129432  [rusiyada, təbii, qaz, sovet, ttifaqının, dağı...  \n",
       "\n",
       "[129433 rows x 2 columns]"
      ]
     },
     "execution_count": 31,
     "metadata": {},
     "output_type": "execute_result"
    }
   ],
   "source": [
    "file_path = '/Users/eljan/Documents/NLP/NLP-Course-ADA/course-projrct-4/GloVe/corpus.txt'\n",
    "with open(file_path, 'w', encoding='utf-8') as file:\n",
    "    for index, row in df.iterrows():\n",
    "        document_text = ' '.join(row['tokenized_text'])\n",
    "        file.write(document_text + '\\n')\n",
    "\n",
    "df"
   ]
  },
  {
   "cell_type": "code",
   "execution_count": 27,
   "metadata": {},
   "outputs": [
    {
     "name": "stdout",
     "output_type": "stream",
     "text": [
      "[('nationale', 0.42391499876976013), ('france', 0.4190831184387207), ('parisdə', 0.4109044671058655), ('konfransındakı', 0.4083888530731201), ('zuavları', 0.4050668179988861), ('parisdəki', 0.4021584093570709), ('fransanın', 0.4014906883239746), ('slem', 0.3975769281387329), ('fransa', 0.3974057137966156), ('demokraik', 0.3958333432674408)]\n"
     ]
    }
   ],
   "source": [
    "print(w2v_model.wv.most_similar(positive=['azərbaycan', 'paris'], negative=['bakı']))"
   ]
  },
  {
   "cell_type": "markdown",
   "metadata": {},
   "source": [
    "# Training GloVe model"
   ]
  },
  {
   "cell_type": "code",
   "execution_count": null,
   "metadata": {},
   "outputs": [],
   "source": [
    "# train GLoVe model using stanfordnlp/glove\n",
    "# commands to run in terminal\n",
    "\n",
    "# main parameters: -vector-size, -iter\n",
    "\n",
    "\"\"\"\n",
    "git clone https://github.com/stanfordnlp/GloVe.git\n",
    "cd GloVe\n",
    "make\n",
    "build/vocab_count -min-count 3 -verbose 2 < corpus.txt > vocab.txt\n",
    "build/cooccur -memory 4.0 -vocab-file vocab.txt -verbose 2 -window-size 15 < corpus.txt > cooccurrence.bin\n",
    "build/shuffle -memory 4.0 -verbose 2 < cooccurrence.bin > cooccurrence.shuf.bin\n",
    "build/glove -save-file vectors -ts hreads 8 -input-file cooccurrence.shuf.bin -x-max 10 -iter 20 -vector-size 128 -binary 2 -vocab-file vocab.txt -verbose 2\n",
    "\"\"\""
   ]
  },
  {
   "cell_type": "code",
   "execution_count": 123,
   "metadata": {},
   "outputs": [
    {
     "name": "stderr",
     "output_type": "stream",
     "text": [
      "/var/folders/ls/65g9k4kd4_j8k3x277xdkd500000gn/T/ipykernel_81218/3091143107.py:3: DeprecationWarning: Call to deprecated `glove2word2vec` (KeyedVectors.load_word2vec_format(.., binary=False, no_header=True) loads GLoVE text vectors.).\n",
      "  glove2word2vec(glove_input_file, word2vec_output_file)\n"
     ]
    }
   ],
   "source": [
    "glove_input_file = 'GloVe/vectors.txt'\n",
    "word2vec_output_file = 'GloVe/glove_model.txt'\n",
    "glove2word2vec(glove_input_file, word2vec_output_file)\n",
    "\n",
    "gl_model = KeyedVectors.load_word2vec_format(word2vec_output_file, binary=False)"
   ]
  },
  {
   "cell_type": "code",
   "execution_count": 124,
   "metadata": {},
   "outputs": [
    {
     "name": "stdout",
     "output_type": "stream",
     "text": [
      "[('çempinatına', 0.7726320028305054), ('avropa', 0.7445871829986572), ('müharibəsindən', 0.6348709464073181), ('birinci', 0.6346476078033447), ('dünyada', 0.6216305494308472), ('çempionatında', 0.619340717792511), ('dünyanın', 0.6168348789215088), ('kinci', 0.6153126955032349), ('çempionatı', 0.6149469017982483), ('çempionu', 0.6058913469314575)]\n",
      "qlobus\n",
      "[('yoldaşı', 0.5234764218330383), ('çempinatına', 0.5218350291252136), ('çempionatı', 0.5111365914344788), ('rusiya', 0.5031629204750061), ('birinci', 0.49001172184944153), ('illər', 0.4884110391139984), ('cu', 0.4843294024467468), ('çempionatında', 0.4834398031234741), ('komanda', 0.4763185381889343), ('xanım', 0.47060462832450867)]\n"
     ]
    }
   ],
   "source": [
    "print(gl_model.most_similar('dünya'))\n",
    "print(gl_model.doesnt_match(['dünya', 'torpaq', 'planet', 'qlobus']))\n",
    "print(gl_model.most_similar(positive=['dünya', 'ailə'], negative=['insan']))"
   ]
  },
  {
   "cell_type": "code",
   "execution_count": 125,
   "metadata": {},
   "outputs": [
    {
     "name": "stdout",
     "output_type": "stream",
     "text": [
      "Synonyms for 'kral':\n",
      "kralı: 0.71\n",
      "kralın: 0.66\n",
      "henri: 0.63\n",
      "demusinin: 0.63\n",
      "mperator: 0.62\n",
      "imperator: 0.61\n",
      "mobon: 0.61\n",
      "kraliça: 0.60\n",
      "teconq: 0.60\n",
      "şahzadə: 0.60\n",
      "\n",
      "Synonyms for 'qadın':\n",
      "kişi: 0.83\n",
      "qadınların: 0.70\n",
      "gənc: 0.69\n",
      "qadının: 0.68\n",
      "yaşlı: 0.67\n",
      "qadını: 0.65\n",
      "qız: 0.64\n",
      "qadınlar: 0.61\n",
      "qadınları: 0.61\n",
      "təkbuynuzla: 0.60\n",
      "\n",
      "Synonyms for 'həkim':\n",
      "həkimi: 0.75\n",
      "tibb: 0.69\n",
      "cərrah: 0.67\n",
      "ryö: 0.62\n",
      "robotçu: 0.62\n",
      "terapevt: 0.60\n",
      "müəllim: 0.59\n",
      "psixoloq: 0.59\n",
      "professor: 0.59\n",
      "alim: 0.58\n",
      "\n",
      "Synonyms for 'ata':\n",
      "baba: 0.67\n",
      "ana: 0.65\n",
      "babası: 0.64\n",
      "oğul: 0.64\n",
      "atanın: 0.61\n",
      "doğma: 0.59\n",
      "qorio: 0.58\n",
      "anasının: 0.58\n",
      "nənəsi: 0.57\n",
      "ulu: 0.57\n",
      "\n",
      "Synonyms for 'at':\n",
      "ağboz: 0.67\n",
      "umqebunq: 0.66\n",
      "shift: 0.61\n",
      "çapmağı: 0.61\n",
      "tiroler: 0.60\n",
      "minməkdə: 0.59\n",
      "brukk: 0.59\n",
      "austriancharts: 0.59\n",
      "nalının: 0.58\n",
      "belində: 0.58\n",
      "\n",
      "Synonyms for 'az':\n",
      "çox: 0.74\n",
      "daha: 0.69\n",
      "kifayət: 0.64\n",
      "nisbətən: 0.64\n",
      "vaxt: 0.63\n",
      "artıq: 0.62\n",
      "qədər: 0.62\n",
      "bundan: 0.62\n",
      "http: 0.61\n",
      "xeyli: 0.61\n",
      "\n",
      "Synonyms for 'görmək':\n",
      "mümkündür: 0.78\n",
      "olar: 0.74\n",
      "göstərmək: 0.70\n",
      "mümkün: 0.68\n",
      "lazımdır: 0.66\n",
      "tapmaq: 0.66\n",
      "gəlmək: 0.64\n",
      "etmək: 0.63\n",
      "istəyirdi: 0.63\n",
      "izləmək: 0.62\n",
      "\n",
      "Synonyms for 'yoxlamaq':\n",
      "qiymətləndirmək: 0.62\n",
      "öyrənmək: 0.59\n",
      "anlamaq: 0.59\n",
      "hesablamaq: 0.59\n",
      "araşdırmaq: 0.58\n",
      "izləmək: 0.56\n",
      "ölçmək: 0.55\n",
      "lazımdır: 0.55\n",
      "dinləmək: 0.55\n",
      "təsdiqləmək: 0.55\n",
      "\n",
      "Synonyms for 'başlamaq':\n",
      "qərarına: 0.63\n",
      "danışıqlara: 0.59\n",
      "qoşulmaq: 0.58\n",
      "hazırlaşmaq: 0.57\n",
      "bitirmək: 0.56\n",
      "hazırlaşmağa: 0.56\n",
      "hazırlıq: 0.55\n",
      "başlamağı: 0.55\n",
      "keçmək: 0.55\n",
      "yürüşə: 0.55\n",
      "\n",
      "Synonyms for 'tapmaq':\n",
      "axtarmaq: 0.76\n",
      "mümkün: 0.69\n",
      "mümkündür: 0.67\n",
      "görmək: 0.66\n",
      "axtarıb: 0.64\n",
      "lazımdır: 0.63\n",
      "çətindir: 0.62\n",
      "götürmək: 0.62\n",
      "etmək: 0.61\n",
      "imkanı: 0.61\n",
      "\n"
     ]
    }
   ],
   "source": [
    "# Use your model for finding synonyms (or words with similar meaning) for 10 different words.\n",
    "words = ['dünya', 'torpaq', 'planet', 'qlobus', 'azərbaycan', 'baku', 'paris', 'kral', 'qadın', 'kişi']\n",
    "words = ['kral', 'qadın', 'həkim', 'ata', 'at', 'az', 'görmək', 'yoxlamaq','başlamaq', 'tapmaq']\n",
    "\n",
    "# pretty print synonyms with their similarity scores with 2 decimal places\n",
    "for word in words:\n",
    "    print(f\"Synonyms for '{word}':\")\n",
    "    for synonym, score in gl_model.most_similar(word):\n",
    "        print(f\"{synonym}: {score:.2f}\")\n",
    "    print()"
   ]
  },
  {
   "cell_type": "code",
   "execution_count": 92,
   "metadata": {},
   "outputs": [
    {
     "name": "stdout",
     "output_type": "stream",
     "text": [
      "Words in array: ['dünya', 'torpaq', 'planet', 'qlobus']\n",
      "Predicted word that doesn't match: qlobus\n",
      "\n",
      "Words in array: ['qırmızı', 'mavi', 'yaşıl', 'it']\n",
      "Predicted word that doesn't match: it\n",
      "\n",
      "Words in array: ['günəş', 'ay', 'ulduz', 'ağac']\n",
      "Predicted word that doesn't match: ağac\n",
      "\n",
      "Words in array: ['kitab', 'qəzet', 'telefon', 'qalereya']\n",
      "Predicted word that doesn't match: qalereya\n",
      "\n"
     ]
    }
   ],
   "source": [
    "azerbaijani_word_arrays = [\n",
    "    ['dünya', 'torpaq', 'planet', 'qlobus'],\n",
    "    [\"qırmızı\", \"mavi\", \"yaşıl\", \"it\"],\n",
    "    ['günəş', 'ay', 'ulduz', 'ağac'],\n",
    "    ['kitab', 'qəzet', 'telefon', 'qalereya']\n",
    "]\n",
    "for word_array in azerbaijani_word_arrays:\n",
    "    result = gl_model.doesnt_match(word_array)\n",
    "    print(\"Words in array:\", word_array)\n",
    "    print(\"Predicted word that doesn't match:\", result)\n",
    "    print()"
   ]
  },
  {
   "cell_type": "code",
   "execution_count": 127,
   "metadata": {},
   "outputs": [
    {
     "name": "stdout",
     "output_type": "stream",
     "text": [
      "Similar word to 'azərbaycan - bakı - kişi' + paris:\n",
      "fransa: 0.64\n",
      "parisdə: 0.53\n",
      "fransanın: 0.52\n",
      "skpo: 0.51\n",
      "portulan: 0.51\n",
      "de: 0.50\n",
      "broli: 0.49\n",
      "parisdəki: 0.49\n",
      "baillire: 0.49\n",
      "parisin: 0.47\n"
     ]
    }
   ],
   "source": [
    "print(\"Similar word to 'azərbaycan - bakı + paris:\")\n",
    "similar_words = gl_model.most_similar(positive=['azərbaycan', 'paris'], negative=['bakı'])\n",
    "for word, similarity in similar_words:\n",
    "    print(f\"{word}: {similarity:.2f}\")"
   ]
  },
  {
   "cell_type": "code",
   "execution_count": 128,
   "metadata": {},
   "outputs": [
    {
     "name": "stdout",
     "output_type": "stream",
     "text": [
      "Similar word to 'kral + qadın - kişi':\n",
      "kralı: 0.65\n",
      "henri: 0.62\n",
      "britaniya: 0.61\n",
      "kralın: 0.60\n",
      "kraliça: 0.59\n",
      "fransa: 0.56\n",
      "kraliçası: 0.56\n",
      "spaniya: 0.56\n",
      "ngiltərə: 0.56\n",
      "krallığının: 0.55\n"
     ]
    }
   ],
   "source": [
    "print(\"Similar word to 'kral + qadın - kişi':\")\n",
    "similar_words = gl_model.most_similar(positive=['kral', 'qadın'], negative=['kişi'])\n",
    "for word, similarity in similar_words:\n",
    "    print(f\"{word}: {similarity:.2f}\")"
   ]
  },
  {
   "cell_type": "code",
   "execution_count": 58,
   "metadata": {},
   "outputs": [
    {
     "name": "stdout",
     "output_type": "stream",
     "text": [
      "Synonyms for 'dünya':\n",
      "[('avropa', 0.9046284556388855), ('çempinatına', 0.8782376646995544), ('jpegmiss', 0.8761517405509949), ('kurulduğundan', 0.8708868622779846), ('ellerimizin', 0.8695940971374512), ('olimpidalar', 0.8693749308586121), ('komanlararası', 0.8489543795585632), ('qurova', 0.8352729082107544), ('səyahatnaməsi', 0.8292735815048218), ('selyaya', 0.828212559223175)]\n",
      "Synonyms for 'azərbaycan':\n",
      "[('azərbaycanın', 0.867760181427002), ('respublikasının', 0.8381106853485107), ('respublikası', 0.8325124382972717), ('xalq', 0.8299776315689087), ('pardinyes', 0.8265110850334167), ('özbətistan', 0.8151125907897949), ('teonimləri', 0.8138307332992554), ('teleteatrının', 0.808049201965332), ('bakı', 0.8067567348480225), ('tralis', 0.8049493432044983)]\n",
      "Odd one out of 'dünya, torpaq, planet, qlobus':\n",
      "qlobus\n",
      "Similar word to 'dünya - insan + ailə':\n",
      "[('vanensis', 0.7451966404914856), ('crucea', 0.7349624037742615), ('illər', 0.7334917187690735), ('ghine', 0.7315700054168701), ('qurova', 0.7269731760025024), ('jakup', 0.7218319177627563), ('cü', 0.7109789252281189), ('jorgji', 0.7094057202339172), ('cu', 0.7080216407775879), ('avropa', 0.704594075679779)]\n",
      "Similar word to 'azərbaycan - bakı + london':\n",
      "[('iixx', 0.8083802461624146), ('salzbourg', 0.7733104228973389), ('syllabus', 0.7689352631568909), ('lanqley', 0.7684151530265808), ('krallıq', 0.7580216526985168), ('schürmann', 0.7564815282821655), ('agaveae', 0.7469525933265686), ('broli', 0.7379981279373169), ('jpgcənubi', 0.7353777289390564), ('buçen', 0.7311823964118958)]\n",
      "Similar word to 'kral + qadın - kişi':\n",
      "[('anjang', 0.9108564853668213), ('kingmerlin', 0.8841528296470642), ('gogukwon', 0.8535261750221252), ('chadae', 0.8524637818336487), ('daemusin', 0.8447505235671997), ('yeongyang', 0.8371497392654419), ('sindae', 0.8210641145706177), ('dongcheon', 0.8182829022407532), ('sosurim', 0.8173812627792358), ('gusu', 0.8103413581848145)]\n",
      "Similar word to 'qadın + atası - anası':\n",
      "[('kişi', 0.8373851776123047), ('gənc', 0.8164107203483582), ('minnur', 0.8016784191131592), ('tanhaji', 0.7678074836730957), ('makfadzen', 0.7616584300994873), ('yaşlı', 0.7559118270874023), ('şaymuratov', 0.7523182034492493), ('ferency', 0.7515699863433838), ('biri', 0.7493202090263367), ('mashkull', 0.7463487982749939)]\n",
      "[('rudetski', 0.8202979564666748), ('fransanın', 0.8201901316642761), ('essmj', 0.8085370063781738), ('fransa', 0.7821521759033203), ('broli', 0.7696882486343384), ('lauteur', 0.7675939798355103), ('məzaim', 0.756354033946991), ('siedlce', 0.7509279251098633), ('publibook', 0.748451292514801), ('quadrimacula', 0.7474845051765442)]\n"
     ]
    }
   ],
   "source": [
    "# Use your model for finding synonyms (or words with similar meaning) for 10 different words. Was your model accurate? \n",
    "# Find synonyms for the word 'dünya'\n",
    "print(\"Synonyms for 'dünya':\")\n",
    "print(gl_model.most_similar('dünya'))\n",
    "\n",
    "\n",
    "print(\"Synonyms for 'azərbaycan':\")\n",
    "print(gl_model.most_similar('azərbaycan'))\n",
    "\n",
    "# Apply mathematical equations on vector values of similar words. Are there any patterns visible? Describe results.\n",
    "# Find the odd one out\n",
    "print(\"Odd one out of 'dünya, torpaq, planet, qlobus':\")\n",
    "print(gl_model.doesnt_match(['dünya', 'torpaq', 'planet', 'qlobus']))\n",
    "\n",
    "# Find the word that is similar to the result of the following equation: dünya - insan + ailə\n",
    "print(\"Similar word to 'dünya - insan + ailə':\")\n",
    "print(gl_model.most_similar(positive=['dünya', 'ailə'], negative=['insan']))\n",
    "\n",
    "# Find the word that is similar to the result of the following equation: azərbaycan - baku + london\n",
    "print(\"Similar word to 'azərbaycan - bakı + london':\")\n",
    "print(gl_model.most_similar(positive=['azərbaycan', 'london'], negative=['bakı']))\n",
    "\n",
    "# Find the word that is similar to the result of the following equation: kral + qadın - kişi\n",
    "print(\"Similar word to 'kral + qadın - kişi':\")\n",
    "print(gl_model.most_similar(positive=['kral', 'qadın'], negative=['kişi']))\n",
    "\n",
    "# Find the word that is similar to the result of the following equation: qadın + atası - anası\n",
    "print(\"Similar word to 'qadın + atası - anası':\")\n",
    "print(gl_model.most_similar(positive=['qadın', 'atası'], negative=['anası']))\n",
    "\n",
    "print(gl_model.most_similar(positive=['azərbaycan', 'paris'], negative=['bakı']))"
   ]
  },
  {
   "cell_type": "markdown",
   "metadata": {},
   "source": [
    "# Comparison of Word2Vec and GloVe using simple classifier"
   ]
  },
  {
   "cell_type": "markdown",
   "metadata": {},
   "source": [
    "## Word2Vec"
   ]
  },
  {
   "cell_type": "code",
   "execution_count": null,
   "metadata": {},
   "outputs": [],
   "source": [
    "review = pd.read_csv('../data/IMDB Dataset_az.csv')\n",
    "review = review[['review_az', 'sentiment']]\n",
    "\n",
    "review.rename(columns={'review_az': 'text'}, inplace=True)\n",
    "review.rename(columns={'sentiment': 'label'}, inplace=True)\n",
    "\n",
    "def split_sentences(text):\n",
    "    pattern = r'(?<=[.!?])\\s*'\n",
    "    sentences = re.split(pattern, text)\n",
    "    sentences_with_whitespace = ' '.join(sentences)\n",
    "    return sentences_with_whitespace\n",
    "\n",
    "review['text'] = review['text'].apply(split_sentences)\n",
    "review['text'] = review['text'].apply(lambda x: x.lower())\n",
    "review['tokenized_text'] = [simple_preprocess(line) for line in review['text']] "
   ]
  },
  {
   "cell_type": "code",
   "execution_count": 52,
   "metadata": {},
   "outputs": [
    {
     "name": "stdout",
     "output_type": "stream",
     "text": [
      "Accuracy: 0.7525\n",
      "F1 Score: 0.7523467434747527\n",
      "              precision    recall  f1-score   support\n",
      "\n",
      "           0       0.76      0.73      0.75       199\n",
      "           1       0.74      0.78      0.76       201\n",
      "\n",
      "    accuracy                           0.75       400\n",
      "   macro avg       0.75      0.75      0.75       400\n",
      "weighted avg       0.75      0.75      0.75       400\n",
      "\n",
      "[[145  54]\n",
      " [ 45 156]]\n"
     ]
    }
   ],
   "source": [
    "def document_vector(word2vec_model, doc_tokens):\n",
    "    # Filter out tokens not in the model's vocabulary\n",
    "    words = [word for word in doc_tokens if word in word2vec_model.wv.key_to_index]\n",
    "    \n",
    "    if len(words) >= 1:\n",
    "        # Compute the mean vector of words in the document\n",
    "        return np.mean(word2vec_model.wv[words], axis=0)\n",
    "    else:\n",
    "        # Return a zero vector if document contains no words in model's vocabulary\n",
    "        return np.zeros(word2vec_model.vector_size)\n",
    "\n",
    "# Apply the function to each row in the DataFrame\n",
    "review['review_vector'] = review['tokenized_text'].apply(lambda tokens: document_vector(w2v_model, tokens))\n",
    "\n",
    "# Assuming 'label' column exists in your DataFrame for classification\n",
    "X = np.array(review['review_vector'].tolist())\n",
    "y = review['label'].values\n",
    "\n",
    "# Split the dataset into training and testing sets\n",
    "X_train, X_test, y_train, y_test = train_test_split(X, y, test_size=0.2, random_state=42)\n",
    "\n",
    "classifier = LogisticRegression()\n",
    "classifier.fit(X_train, y_train)\n",
    "y_pred = classifier.predict(X_test)\n",
    "\n",
    "# Evaluate the classifier\n",
    "accuracy = accuracy_score(y_test, y_pred)\n",
    "f1 = f1_score(y_test, y_pred, average='weighted')\n",
    "print(\"Accuracy:\", accuracy)\n",
    "print(\"F1 Score:\", f1)\n",
    "print(classification_report(y_test, y_pred))\n",
    "print(confusion_matrix(y_test, y_pred))"
   ]
  },
  {
   "cell_type": "markdown",
   "metadata": {},
   "source": [
    "## GloVe"
   ]
  },
  {
   "cell_type": "code",
   "execution_count": 126,
   "metadata": {},
   "outputs": [
    {
     "name": "stdout",
     "output_type": "stream",
     "text": [
      "Accuracy: 0.7125\n",
      "F1 Score: 0.7124946090717603\n",
      "              precision    recall  f1-score   support\n",
      "\n",
      "           0       0.71      0.71      0.71       199\n",
      "           1       0.71      0.72      0.71       201\n",
      "\n",
      "    accuracy                           0.71       400\n",
      "   macro avg       0.71      0.71      0.71       400\n",
      "weighted avg       0.71      0.71      0.71       400\n",
      "\n",
      "[[141  58]\n",
      " [ 57 144]]\n"
     ]
    }
   ],
   "source": [
    "def document_vector(model, doc_tokens):\n",
    "    # Filter out tokens not in the model's vocabulary\n",
    "    words = [word for word in doc_tokens if word in model.key_to_index]\n",
    "    \n",
    "    # Check if we have at least one word in the model's vocabulary\n",
    "    if len(words) >= 1:\n",
    "        # Compute the mean vector of the words in the document that are in the model's vocabulary\n",
    "        return np.mean(model[words], axis=0)\n",
    "    else:\n",
    "        # If no words in the document are in the model's vocabulary, return a vector of zeros\n",
    "        return np.zeros(model.vector_size)\n",
    "\n",
    "review['review_vector'] = review['tokenized_text'].apply(lambda tokens: document_vector(gl_model, tokens))\n",
    "\n",
    "\n",
    "# Assuming 'label' column exists in your DataFrame for classification\n",
    "X = np.array(review['review_vector'].tolist())\n",
    "y = review['label'].values\n",
    "\n",
    "# Split the dataset into training and testing sets\n",
    "X_train, X_test, y_train, y_test = train_test_split(X, y, test_size=0.2, random_state=42)\n",
    "\n",
    "# Initialize and train the classifier\n",
    "classifier = LogisticRegression()\n",
    "classifier.fit(X_train, y_train)\n",
    "y_pred = classifier.predict(X_test)\n",
    "accuracy = accuracy_score(y_test, y_pred)\n",
    "f1 = f1_score(y_test, y_pred, average='weighted')\n",
    "print(\"Accuracy:\", accuracy)\n",
    "print(\"F1 Score:\", f1)\n",
    "print(classification_report(y_test, y_pred))\n",
    "print(confusion_matrix(y_test, y_pred))"
   ]
  },
  {
   "cell_type": "code",
   "execution_count": null,
   "metadata": {},
   "outputs": [],
   "source": []
  }
 ],
 "metadata": {
  "kernelspec": {
   "display_name": "polygraf",
   "language": "python",
   "name": "python3"
  },
  "language_info": {
   "codemirror_mode": {
    "name": "ipython",
    "version": 3
   },
   "file_extension": ".py",
   "mimetype": "text/x-python",
   "name": "python",
   "nbconvert_exporter": "python",
   "pygments_lexer": "ipython3",
   "version": "3.11.7"
  }
 },
 "nbformat": 4,
 "nbformat_minor": 2
}
