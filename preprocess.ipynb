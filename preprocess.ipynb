{
 "cells": [
  {
   "cell_type": "code",
   "execution_count": 22,
   "metadata": {},
   "outputs": [],
   "source": [
    "import re\n",
    "import fitz"
   ]
  },
  {
   "cell_type": "code",
   "execution_count": 98,
   "metadata": {},
   "outputs": [],
   "source": [
    "\n",
    "def extract_text_from_pdf(pdf_path):\n",
    "    # Open the PDF file\n",
    "    document = fitz.open(pdf_path)\n",
    "    \n",
    "    # Initialize an empty string to store the processed text\n",
    "    processed_text = \"\"\n",
    "    \n",
    "    # Loop through each page in the PDF\n",
    "    for page_num in range(len(document)):\n",
    "    # for page_num in range(10, 12):\n",
    "        page = document.load_page(page_num)\n",
    "        \n",
    "        # Extract text from the page\n",
    "        text = page.get_text()\n",
    "        \n",
    "        # Split the text into lines for processing\n",
    "        lines = text.split('\\n')\n",
    "        \n",
    "        # Process each line\n",
    "        for i, line in enumerate(lines):\n",
    "            # Check if the current line ends with \"hyper\" or a hyphen\n",
    "            if line.endswith(\"hyper\") or line.endswith(\"-\"):\n",
    "                # Remove \"hyper\" or hyphen and concatenate with the next line if it exists\n",
    "                processed_text += line.rstrip(\"hyper\").rstrip(\"-\")\n",
    "            else:\n",
    "                # If the line does not require special handling, add it to the processed text\n",
    "                # Also add a space if it's not the end of a paragraph\n",
    "                next_line = lines[i + 1] if i + 1 < len(lines) else \"\"\n",
    "                separator = \"\" if next_line.startswith(\" \") or not next_line else \" \"\n",
    "                processed_text += line + separator\n",
    "        \n",
    "        # Add a newline character for separation between pages\n",
    "        # processed_text += \"\\n\"\n",
    "    \n",
    "    # Close the document\n",
    "    document.close()\n",
    "    \n",
    "    return processed_text\n",
    "\n",
    "def replace_multiple_whitespaces(string):\n",
    "    return re.sub(r'\\s+', ' ', string)\n",
    "\n",
    "name = \"AKE.pdf\"\n",
    "pdf_path = f\"./data/{name}\"\n",
    "extracted_text = extract_text_from_pdf(pdf_path)\n",
    "pattern = r\"AZƏRBAYCAN KİTABXANA ENSİKLOPEDİYASI \\d+\"\n",
    "extracted_text = re.sub(pattern, \"\", extracted_text)\n",
    "extracted_text = extracted_text.replace(\"Ɵ\", \"t\")\n",
    "extracted_text = replace_multiple_whitespaces(extracted_text)"
   ]
  },
  {
   "cell_type": "code",
   "execution_count": null,
   "metadata": {},
   "outputs": [],
   "source": [
    "def write_to_txt(pdf_path, text):\n",
    "    with open(pdf_path, \"w\") as f:\n",
    "        f.write(text)\n",
    "\n",
    "pdf_path = f\"./output/{name.split('.')[0]}.txt\"\n",
    "write_to_txt(pdf_path, extracted_text)"
   ]
  },
  {
   "cell_type": "code",
   "execution_count": 36,
   "metadata": {},
   "outputs": [
    {
     "data": {
      "text/plain": [
       "224470"
      ]
     },
     "execution_count": 36,
     "metadata": {},
     "output_type": "execute_result"
    }
   ],
   "source": [
    "len(extracted_text.split())"
   ]
  },
  {
   "cell_type": "markdown",
   "metadata": {},
   "source": [
    "## Notes:\n",
    "- remove \"AZƏRBAYCAN K İTABXANA ENS İKLOPEDİYASI 11\"\n",
    "- when there is hypen in the before new line, then concat the words\n",
    "- some words are splitted"
   ]
  },
  {
   "cell_type": "code",
   "execution_count": 99,
   "metadata": {},
   "outputs": [],
   "source": [
    "name = \"Azf-294666.pdf\"\n",
    "pdf_path = f\"./data/{name}\"\n",
    "extracted_text2 = extract_text_from_pdf(pdf_path)\n",
    "# pattern = r\"AZƏRBAYCAN KİTABXANA ENSİKLOPEDİYASI \\d+\"\n",
    "# extracted_text = re.sub(pattern, \"\", extracted_text)\n",
    "# extracted_text = extracted_text.replace(\"Ɵ\", \"t\")\n",
    "extracted_text2 = replace_multiple_whitespaces(extracted_text2)\n",
    "pdf_path = f\"./output/{name.split('.')[0]}.txt\"\n",
    "write_to_txt(pdf_path, extracted_text)"
   ]
  },
  {
   "cell_type": "code",
   "execution_count": 101,
   "metadata": {},
   "outputs": [
    {
     "name": "stdout",
     "output_type": "stream",
     "text": [
      "Processing: elcin-cavadov-ders-vesaiti.pdf\n",
      "Processing: avtomatikanin-esaslari_compressed.pdf\n",
      "Processing: [kitabyurdu.org]-1478018564_azerbaycan-etnoqrafiyasi-1.pdf\n",
      "Processing: emeliyyat-sistemleri_compressed.pdf\n",
      "Processing: [kitabyurdu.org]-1478019090_azerbaycan-etnoqrafiyasi-2.pdf\n"
     ]
    }
   ],
   "source": [
    "all_text = \"\"\n",
    "import os\n",
    "\n",
    "directory_path = './data'\n",
    "combined_text = ''\n",
    "files = os.listdir(directory_path)\n",
    "for file_name in files:\n",
    "    if file_name not in ['AKE.pdf', 'Azf-294666.pdf', 'IMDB Dataset.csv', 'IMDB Dataset_az.csv']:\n",
    "        print('Processing:', file_name)\n",
    "        file_path = os.path.join(directory_path, file_name)\n",
    "        with open(file_path, 'r', encoding=\"ISO-8859-1\") as file:\n",
    "            text = file.read()\n",
    "            all_text += text + ' '"
   ]
  },
  {
   "cell_type": "code",
   "execution_count": 102,
   "metadata": {},
   "outputs": [],
   "source": [
    "all_text += all_text + ' ' + extracted_text + ' ' + extracted_text2"
   ]
  },
  {
   "cell_type": "code",
   "execution_count": 103,
   "metadata": {},
   "outputs": [],
   "source": [
    "pdf_path = f\"./output/combined.txt\"\n",
    "write_to_txt(pdf_path, all_text)"
   ]
  },
  {
   "cell_type": "code",
   "execution_count": 90,
   "metadata": {},
   "outputs": [],
   "source": [
    "import torch"
   ]
  },
  {
   "cell_type": "code",
   "execution_count": 94,
   "metadata": {},
   "outputs": [
    {
     "data": {
      "text/plain": [
       "tensor([14275.1104])"
      ]
     },
     "execution_count": 94,
     "metadata": {},
     "output_type": "execute_result"
    }
   ],
   "source": [
    "torch.exp(torch.tensor([9.566272735595703]))"
   ]
  }
 ],
 "metadata": {
  "kernelspec": {
   "display_name": "polygraf",
   "language": "python",
   "name": "python3"
  },
  "language_info": {
   "codemirror_mode": {
    "name": "ipython",
    "version": 3
   },
   "file_extension": ".py",
   "mimetype": "text/x-python",
   "name": "python",
   "nbconvert_exporter": "python",
   "pygments_lexer": "ipython3",
   "version": "3.11.7"
  }
 },
 "nbformat": 4,
 "nbformat_minor": 2
}
